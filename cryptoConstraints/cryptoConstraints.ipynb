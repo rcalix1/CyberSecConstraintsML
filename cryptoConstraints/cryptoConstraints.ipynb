{
 "cells": [
  {
   "cell_type": "code",
   "execution_count": null,
   "id": "36b89172",
   "metadata": {},
   "outputs": [],
   "source": []
  },
  {
   "cell_type": "code",
   "execution_count": null,
   "id": "d8609de5",
   "metadata": {},
   "outputs": [],
   "source": []
  },
  {
   "cell_type": "markdown",
   "id": "076c65ae",
   "metadata": {},
   "source": [
    "\n",
    "## Crypto\n"
   ]
  },
  {
   "cell_type": "code",
   "execution_count": null,
   "id": "bc29c8dc",
   "metadata": {},
   "outputs": [],
   "source": []
  },
  {
   "cell_type": "code",
   "execution_count": 1,
   "id": "761895f8",
   "metadata": {},
   "outputs": [],
   "source": [
    "\n",
    "## !pip install pycryptodome\n"
   ]
  },
  {
   "cell_type": "code",
   "execution_count": 23,
   "id": "6cf0afbb",
   "metadata": {},
   "outputs": [],
   "source": [
    "\n",
    "\n",
    "import torch\n",
    "import torch.nn as nn\n",
    "import torch.optim as optim\n",
    "import numpy as np\n",
    "import matplotlib.pyplot as plt\n",
    "from sklearn.manifold import TSNE\n",
    "from Crypto.Util.number import getPrime, inverse, GCD\n",
    "import math\n",
    "\n",
    "torch.manual_seed(42)\n",
    "\n",
    "device = torch.device(\"cpu\")\n",
    "\n"
   ]
  },
  {
   "cell_type": "code",
   "execution_count": 24,
   "id": "6af263ec",
   "metadata": {},
   "outputs": [],
   "source": [
    "\n",
    "# ======= Real RSA Generator =======\n",
    "def generate_valid_rsa_sample(bits=8):\n",
    "    \"\"\"Return (x=[p,q,e], y=[n,phi,d]) as float tensors.\"\"\"\n",
    "    while True:\n",
    "        p = getPrime(bits)\n",
    "        q = getPrime(bits)\n",
    "        phi = (p - 1) * (q - 1)\n",
    "        # find small odd e that is coprime to phi\n",
    "        for e in range(3, 1000, 2):\n",
    "            if GCD(e, phi) == 1:\n",
    "                try:\n",
    "                    d = inverse(e, phi)\n",
    "                    x = torch.tensor([p, q, e], dtype=torch.float32)\n",
    "                    y = torch.tensor([p * q, phi, d], dtype=torch.float32)\n",
    "                    return x, y\n",
    "              \n",
    "                except:\n",
    "                    continue\n",
    "                    \n",
    "                    "
   ]
  },
  {
   "cell_type": "code",
   "execution_count": 25,
   "id": "bebe5e4b",
   "metadata": {},
   "outputs": [],
   "source": [
    "\n",
    "def gen_data(N=1000, bits=8):\n",
    "    xs, ys = [], []\n",
    "    for _ in range(N):\n",
    "        x, y = generate_valid_rsa_sample(bits)\n",
    "        xs.append(x)\n",
    "        ys.append(y)\n",
    "    return torch.stack(xs).to(device), torch.stack(ys).to(device)\n"
   ]
  },
  {
   "cell_type": "code",
   "execution_count": 26,
   "id": "074b27b2",
   "metadata": {},
   "outputs": [],
   "source": [
    "\n",
    "\n",
    "# ======= Forward Neural Model =======\n",
    "class ForwardModel(nn.Module):\n",
    "    def __init__(self):\n",
    "        super().__init__()\n",
    "        self.net = nn.Sequential(\n",
    "            nn.Linear(3, 64),\n",
    "            nn.ReLU(),\n",
    "            nn.Linear(64, 3)\n",
    "        )\n",
    "    def forward(self, x):\n",
    "        return self.net(x)\n",
    "    \n",
    "\n"
   ]
  },
  {
   "cell_type": "code",
   "execution_count": 27,
   "id": "f1290c6c",
   "metadata": {},
   "outputs": [],
   "source": [
    "\n",
    "# ======= Hamming Weight Score =======\n",
    "def hamming_weight(d):\n",
    "    \"\"\"\n",
    "    d: [batch] float/int tensor\n",
    "    returns: normalized Hamming weight in [0,1] for 32 bits\n",
    "    \"\"\"\n",
    "    d_int = d.long().unsqueeze(1)  # Ensure shape [batch, 1]\n",
    "    ## bits  = d_int.bitwise_and(1 << torch.arange(32)).bool().float()\n",
    "    bits = d_int.bitwise_and(1 << torch.arange(32, device=d.device)).bool().float()  # [B,32]\n",
    "    return bits.sum(dim=1) / 32.0  # Normalized\n",
    "\n"
   ]
  },
  {
   "cell_type": "code",
   "execution_count": 28,
   "id": "bc9584c2",
   "metadata": {},
   "outputs": [],
   "source": [
    "\n",
    "\n",
    "\n",
    "# ======= Train Forward Model =======\n",
    "def train_forward_model(x, y, epochs=300, lr=1e-3):\n",
    "    model = ForwardModel().to(device)\n",
    "    opt = optim.Adam(model.parameters(), lr=lr)\n",
    "    loss_fn = nn.MSELoss()\n",
    "    for epoch in range(epochs):\n",
    "        y_pred = model(x)\n",
    "        loss = loss_fn(y_pred, y)\n",
    "        opt.zero_grad()\n",
    "        loss.backward()\n",
    "        opt.step()\n",
    "    return model\n"
   ]
  },
  {
   "cell_type": "code",
   "execution_count": 29,
   "id": "4c9b28a1",
   "metadata": {},
   "outputs": [],
   "source": [
    "\n",
    "\n",
    "# ======= Constraint-Based Optimizer =======\n",
    "def optimize_with_constraints(forward_model, y_target, score_target, steps=400, lr=0.01):\n",
    "    \"\"\"\n",
    "    Optimize latent z so x = sigmoid(z)*300 produces y close to y_target\n",
    "    and hamming_weight(d) close to score_target.\n",
    "    Returns final x, y and the sampled history (every 20 steps).\n",
    "    \"\"\"\n",
    "    z = torch.randn((1, 3), device=device, requires_grad=True)\n",
    "    opt = optim.Adam([z], lr=lr)\n",
    "    history = []\n",
    "\n",
    "    for step in range(steps):\n",
    "        x = torch.sigmoid(z) * 300.0                    # [1,3] ~ [p,q,e] range\n",
    "        y_pred = forward_model(x)                       # [1,3] ~ [n,phi,d]\n",
    "        d_pred = y_pred[:, 2]\n",
    "        score = hamming_weight(d_pred)                  # [1]\n",
    "\n",
    "        loss = (\n",
    "            nn.functional.mse_loss(y_pred, y_target)\n",
    "            + 10.0 * nn.functional.mse_loss(score, score_target)\n",
    "        )\n",
    "\n",
    "        opt.zero_grad()\n",
    "        loss.backward()\n",
    "        opt.step()\n",
    "\n",
    "        if step % 20 == 0:\n",
    "            history.append(\n",
    "                (  x.detach().clone(), y_pred.detach().clone(), score.detach().item()  )\n",
    "            )\n",
    "\n",
    "    return x.detach(), y_pred.detach(), history\n"
   ]
  },
  {
   "cell_type": "code",
   "execution_count": 30,
   "id": "dbd8d27f",
   "metadata": {},
   "outputs": [
    {
     "name": "stdout",
     "output_type": "stream",
     "text": [
      "Generating data and training model...\n",
      "torch.Size([1000, 3])\n",
      "torch.Size([1000, 3])\n"
     ]
    }
   ],
   "source": [
    "\n",
    "# ======= Main Experiment =======\n",
    "print(\"Generating data and training model...\")\n",
    "x_train, y_train = gen_data(1000)   # real RSA tuples\n",
    "\n",
    "print( x_train.shape )\n",
    "print( y_train.shape )\n",
    "\n"
   ]
  },
  {
   "cell_type": "code",
   "execution_count": 31,
   "id": "3a9c6bf7",
   "metadata": {},
   "outputs": [],
   "source": [
    "\n",
    "\n",
    "forward_model = train_forward_model(x_train, y_train, epochs=300)\n",
    "\n",
    "\n"
   ]
  },
  {
   "cell_type": "code",
   "execution_count": 32,
   "id": "6a7035e0",
   "metadata": {},
   "outputs": [],
   "source": [
    "\n",
    "\n",
    "optimized_inputs = []\n",
    "optimized_outputs = []\n",
    "optimized_scores = []\n",
    "\n",
    "\n"
   ]
  },
  {
   "cell_type": "code",
   "execution_count": 33,
   "id": "f72534bd",
   "metadata": {},
   "outputs": [
    {
     "name": "stdout",
     "output_type": "stream",
     "text": [
      "Running constraint optimization for different scores...\n"
     ]
    }
   ],
   "source": [
    "\n",
    "\n",
    "\n",
    "print(\"Running constraint optimization for different scores...\")\n",
    "for i in range(10):\n",
    "    y_target     = y_train[i:i+1]               # pick a seed output\n",
    "    score_target = torch.tensor([i / 10.0], dtype=torch.float32, device=device)\n",
    "    \n",
    "    x_opt, y_opt, hist = optimize_with_constraints(forward_model, y_target, score_target, steps=400)\n",
    "    \n",
    "    optimized_inputs.append(x_opt.squeeze(0).cpu().numpy())\n",
    "    optimized_outputs.append(y_opt.squeeze(0).cpu().numpy())\n",
    "    optimized_scores.append(score_target.item())\n",
    "    \n"
   ]
  },
  {
   "cell_type": "code",
   "execution_count": 34,
   "id": "a3caa841",
   "metadata": {},
   "outputs": [],
   "source": [
    "\n",
    "\n",
    "optimized_inputs  = np.array( optimized_inputs  )    # [10,3]\n",
    "optimized_outputs = np.array( optimized_outputs )    # [10,3]\n",
    "optimized_scores  = np.array( optimized_scores  )    # [10]\n"
   ]
  },
  {
   "cell_type": "code",
   "execution_count": 35,
   "id": "ebbdc8c9",
   "metadata": {},
   "outputs": [
    {
     "name": "stderr",
     "output_type": "stream",
     "text": [
      "/home/maquina1/anaconda3/envs/py37_Constraints/lib/python3.7/site-packages/sklearn/manifold/_t_sne.py:793: FutureWarning: The default learning rate in TSNE will change from 200.0 to 'auto' in 1.2.\n",
      "  FutureWarning,\n",
      "/home/maquina1/anaconda3/envs/py37_Constraints/lib/python3.7/site-packages/sklearn/manifold/_t_sne.py:986: FutureWarning: The PCA initialization in TSNE will change to have the standard deviation of PC1 equal to 1e-4 in 1.2. This will ensure better convergence.\n",
      "  FutureWarning,\n"
     ]
    }
   ],
   "source": [
    "\n",
    "\n",
    "# ======= 2D Visualization (t-SNE of outputs [n,phi,d]) =======\n",
    "output_array = optimized_outputs\n",
    "tsne = TSNE(n_components=2, perplexity=5, init=\"pca\", random_state=42)\n",
    "embeddings = tsne.fit_transform(output_array)\n",
    "\n",
    "\n"
   ]
  },
  {
   "cell_type": "code",
   "execution_count": 36,
   "id": "829faac2",
   "metadata": {},
   "outputs": [
    {
     "data": {
      "image/png": "[encoded data removed]",
      "text/plain": [
       "<Figure size 800x600 with 2 Axes>"
      ]
     },
     "metadata": {},
     "output_type": "display_data"
    }
   ],
   "source": [
    "\n",
    "plt.figure(figsize=(8, 6))\n",
    "scatter = plt.scatter(embeddings[:, 0], embeddings[:, 1], c=optimized_scores, cmap=\"viridis\", s=100)\n",
    "plt.colorbar(scatter, label=\"Target Hamming Weight\")\n",
    "plt.title(\"t-SNE of Optimized RSA Outputs\")\n",
    "plt.xlabel(\"t-SNE Dim 1\")\n",
    "plt.ylabel(\"t-SNE Dim 2\")\n",
    "plt.grid(True)\n",
    "plt.tight_layout()\n",
    "plt.show()\n",
    "\n",
    "\n",
    "\n",
    "\n"
   ]
  },
  {
   "cell_type": "code",
   "execution_count": 37,
   "id": "86f89216",
   "metadata": {},
   "outputs": [
    {
     "data": {
      "image/png": "[encoded data removed]",
      "text/plain": [
       "<Figure size 1000x600 with 1 Axes>"
      ]
     },
     "metadata": {},
     "output_type": "display_data"
    }
   ],
   "source": [
    "\n",
    "\n",
    "\n",
    "# ======= Spectrogram-style Visualization of d Bits (with actual HW labels) =======\n",
    "plt.figure(figsize=(10, 6))\n",
    "actual_hw = []\n",
    "for i, y in enumerate(optimized_outputs):\n",
    "    d_val = int(y[2])\n",
    "    bits = [(d_val >> b) & 1 for b in range(31, -1, -1)]  # MSB→LSB\n",
    "    actual_hw.append(sum(bits)/32.0)\n",
    "    plt.imshow([bits], aspect='auto', cmap='Greys', extent=[0, 32, i, i+1])\n",
    "\n",
    "yticks = [f\"score={s:.1f} | hw={h:.2f}\" for s, h in zip(optimized_scores, actual_hw)]\n",
    "plt.yticks(np.arange(10) + 0.5, yticks)\n",
    "plt.xlabel(\"Bit Index (MSB → LSB)\")\n",
    "plt.ylabel(\"Generated d per Score\")\n",
    "plt.title(\"Spectral Bit Signature of Generated d\")\n",
    "plt.tight_layout()\n",
    "plt.show()\n",
    "\n",
    "\n"
   ]
  },
  {
   "cell_type": "code",
   "execution_count": null,
   "id": "41d93721",
   "metadata": {},
   "outputs": [],
   "source": []
  },
  {
   "cell_type": "code",
   "execution_count": 38,
   "id": "9d618eaa",
   "metadata": {},
   "outputs": [],
   "source": [
    "\n",
    "\n",
    "# ======================\n",
    "# Build constrained dataset + train inverse model\n",
    "# ======================\n",
    "\n",
    "@torch.no_grad()\n",
    "def build_constrained_dataset(forward_model, y_pool, scores, runs_per_score=20, steps=300):\n",
    "    \"\"\"\n",
    "    Use the same constraint optimizer to create many (x̂, ŷ, score) triples.\n",
    "    Returns tensors X:[N,3], Y:[N,3], S:[N,1]\n",
    "    \"\"\"\n",
    "    X_list, Y_list, S_list = [], [], []\n",
    "    idx = 0\n",
    "    for s in scores:\n",
    "        score_target = torch.tensor([s], dtype=torch.float32, device=device)\n",
    "        for _ in range(runs_per_score):\n",
    "            y_target = y_pool[idx % len(y_pool): idx % len(y_pool) + 1]\n",
    "            idx += 1\n",
    "            x_opt, y_opt, _ = optimize_with_constraints(forward_model, y_target, score_target, steps=steps)\n",
    "            X_list.append(x_opt.squeeze(0))\n",
    "            Y_list.append(y_opt.squeeze(0))\n",
    "            S_list.append(score_target)\n",
    "    X = torch.stack(X_list).to(device)\n",
    "    Y = torch.stack(Y_list).to(device)\n",
    "    S = torch.stack(S_list).view(-1, 1).to(device)\n",
    "    return X, Y, S\n",
    "\n"
   ]
  },
  {
   "cell_type": "code",
   "execution_count": 39,
   "id": "4f9fa523",
   "metadata": {},
   "outputs": [],
   "source": [
    "\n",
    "\n",
    "class InverseModel(nn.Module):\n",
    "    \"\"\"Score-conditioned inverse: [ŷ(3), score(1)] -> x̂(3)\"\"\"\n",
    "    def __init__(self, in_dim=4, out_dim=3, width=128):\n",
    "        super().__init__()\n",
    "        self.net = nn.Sequential(\n",
    "            nn.Linear(in_dim, width),\n",
    "            nn.ReLU(),\n",
    "            nn.Linear(width, width),\n",
    "            nn.ReLU(),\n",
    "            nn.Linear(width, out_dim),\n",
    "        )\n",
    "    def forward(self, feats):\n",
    "        return self.net(feats)\n"
   ]
  },
  {
   "cell_type": "code",
   "execution_count": 40,
   "id": "6b10651e",
   "metadata": {},
   "outputs": [],
   "source": [
    "\n",
    "def train_inverse(Y, S, X, epochs=250, batch_size=256, lr=1e-3):\n",
    "    feats = torch.cat([Y, S], dim=1)   # [N,4]\n",
    "    ds = torch.utils.data.TensorDataset(feats, X)\n",
    "    dl = torch.utils.data.DataLoader(ds, batch_size=batch_size, shuffle=True)\n",
    "    model = InverseModel().to(device)\n",
    "    opt = optim.Adam(model.parameters(), lr=lr)\n",
    "    loss_fn = nn.MSELoss()\n",
    "    for _ in range(epochs):\n",
    "        for f_b, x_b in dl:\n",
    "            pred = model(f_b)\n",
    "            loss = loss_fn(pred, x_b)\n",
    "            opt.zero_grad(); loss.backward(); opt.step()\n",
    "    return model\n"
   ]
  },
  {
   "cell_type": "code",
   "execution_count": 41,
   "id": "2ab016a4",
   "metadata": {},
   "outputs": [],
   "source": [
    "\n",
    "\n",
    "@torch.no_grad()\n",
    "def eval_inverse(inv_model, Yt, St, Xt):\n",
    "    feats = torch.cat([Yt, St], dim=1)\n",
    "    pred = inv_model(feats)\n",
    "    mae = (pred - Xt).abs().mean(0)\n",
    "    return pred, mae\n"
   ]
  },
  {
   "cell_type": "code",
   "execution_count": 42,
   "id": "5286e99f",
   "metadata": {},
   "outputs": [
    {
     "name": "stdout",
     "output_type": "stream",
     "text": [
      "Building constrained dataset for inverse training...\n"
     ]
    },
    {
     "ename": "RuntimeError",
     "evalue": "element 0 of tensors does not require grad and does not have a grad_fn",
     "output_type": "error",
     "traceback": [
      "\u001b[0;31m---------------------------------------------------------------------------\u001b[0m",
      "\u001b[0;31mRuntimeError\u001b[0m                              Traceback (most recent call last)",
      "\u001b[0;32m/tmp/ipykernel_9557/4017834544.py\u001b[0m in \u001b[0;36m<module>\u001b[0;34m\u001b[0m\n\u001b[1;32m      6\u001b[0m     \u001b[0mscores\u001b[0m\u001b[0;34m=\u001b[0m\u001b[0mscores\u001b[0m\u001b[0;34m,\u001b[0m\u001b[0;34m\u001b[0m\u001b[0;34m\u001b[0m\u001b[0m\n\u001b[1;32m      7\u001b[0m     \u001b[0mruns_per_score\u001b[0m\u001b[0;34m=\u001b[0m\u001b[0;36m30\u001b[0m\u001b[0;34m,\u001b[0m       \u001b[0;31m# 10*30 = 300 samples; increase for better inverse\u001b[0m\u001b[0;34m\u001b[0m\u001b[0;34m\u001b[0m\u001b[0m\n\u001b[0;32m----> 8\u001b[0;31m     \u001b[0msteps\u001b[0m\u001b[0;34m=\u001b[0m\u001b[0;36m250\u001b[0m\u001b[0;34m\u001b[0m\u001b[0;34m\u001b[0m\u001b[0m\n\u001b[0m\u001b[1;32m      9\u001b[0m )\n",
      "\u001b[0;32m~/anaconda3/envs/py37_Constraints/lib/python3.7/site-packages/torch/autograd/grad_mode.py\u001b[0m in \u001b[0;36mdecorate_context\u001b[0;34m(*args, **kwargs)\u001b[0m\n\u001b[1;32m     25\u001b[0m         \u001b[0;32mdef\u001b[0m \u001b[0mdecorate_context\u001b[0m\u001b[0;34m(\u001b[0m\u001b[0;34m*\u001b[0m\u001b[0margs\u001b[0m\u001b[0;34m,\u001b[0m \u001b[0;34m**\u001b[0m\u001b[0mkwargs\u001b[0m\u001b[0;34m)\u001b[0m\u001b[0;34m:\u001b[0m\u001b[0;34m\u001b[0m\u001b[0;34m\u001b[0m\u001b[0m\n\u001b[1;32m     26\u001b[0m             \u001b[0;32mwith\u001b[0m \u001b[0mself\u001b[0m\u001b[0;34m.\u001b[0m\u001b[0mclone\u001b[0m\u001b[0;34m(\u001b[0m\u001b[0;34m)\u001b[0m\u001b[0;34m:\u001b[0m\u001b[0;34m\u001b[0m\u001b[0;34m\u001b[0m\u001b[0m\n\u001b[0;32m---> 27\u001b[0;31m                 \u001b[0;32mreturn\u001b[0m \u001b[0mfunc\u001b[0m\u001b[0;34m(\u001b[0m\u001b[0;34m*\u001b[0m\u001b[0margs\u001b[0m\u001b[0;34m,\u001b[0m \u001b[0;34m**\u001b[0m\u001b[0mkwargs\u001b[0m\u001b[0;34m)\u001b[0m\u001b[0;34m\u001b[0m\u001b[0;34m\u001b[0m\u001b[0m\n\u001b[0m\u001b[1;32m     28\u001b[0m         \u001b[0;32mreturn\u001b[0m \u001b[0mcast\u001b[0m\u001b[0;34m(\u001b[0m\u001b[0mF\u001b[0m\u001b[0;34m,\u001b[0m \u001b[0mdecorate_context\u001b[0m\u001b[0;34m)\u001b[0m\u001b[0;34m\u001b[0m\u001b[0;34m\u001b[0m\u001b[0m\n\u001b[1;32m     29\u001b[0m \u001b[0;34m\u001b[0m\u001b[0m\n",
      "\u001b[0;32m/tmp/ipykernel_9557/1711262462.py\u001b[0m in \u001b[0;36mbuild_constrained_dataset\u001b[0;34m(forward_model, y_pool, scores, runs_per_score, steps)\u001b[0m\n\u001b[1;32m     16\u001b[0m             \u001b[0my_target\u001b[0m \u001b[0;34m=\u001b[0m \u001b[0my_pool\u001b[0m\u001b[0;34m[\u001b[0m\u001b[0midx\u001b[0m \u001b[0;34m%\u001b[0m \u001b[0mlen\u001b[0m\u001b[0;34m(\u001b[0m\u001b[0my_pool\u001b[0m\u001b[0;34m)\u001b[0m\u001b[0;34m:\u001b[0m \u001b[0midx\u001b[0m \u001b[0;34m%\u001b[0m \u001b[0mlen\u001b[0m\u001b[0;34m(\u001b[0m\u001b[0my_pool\u001b[0m\u001b[0;34m)\u001b[0m \u001b[0;34m+\u001b[0m \u001b[0;36m1\u001b[0m\u001b[0;34m]\u001b[0m\u001b[0;34m\u001b[0m\u001b[0;34m\u001b[0m\u001b[0m\n\u001b[1;32m     17\u001b[0m             \u001b[0midx\u001b[0m \u001b[0;34m+=\u001b[0m \u001b[0;36m1\u001b[0m\u001b[0;34m\u001b[0m\u001b[0;34m\u001b[0m\u001b[0m\n\u001b[0;32m---> 18\u001b[0;31m             \u001b[0mx_opt\u001b[0m\u001b[0;34m,\u001b[0m \u001b[0my_opt\u001b[0m\u001b[0;34m,\u001b[0m \u001b[0m_\u001b[0m \u001b[0;34m=\u001b[0m \u001b[0moptimize_with_constraints\u001b[0m\u001b[0;34m(\u001b[0m\u001b[0mforward_model\u001b[0m\u001b[0;34m,\u001b[0m \u001b[0my_target\u001b[0m\u001b[0;34m,\u001b[0m \u001b[0mscore_target\u001b[0m\u001b[0;34m,\u001b[0m \u001b[0msteps\u001b[0m\u001b[0;34m=\u001b[0m\u001b[0msteps\u001b[0m\u001b[0;34m)\u001b[0m\u001b[0;34m\u001b[0m\u001b[0;34m\u001b[0m\u001b[0m\n\u001b[0m\u001b[1;32m     19\u001b[0m             \u001b[0mX_list\u001b[0m\u001b[0;34m.\u001b[0m\u001b[0mappend\u001b[0m\u001b[0;34m(\u001b[0m\u001b[0mx_opt\u001b[0m\u001b[0;34m.\u001b[0m\u001b[0msqueeze\u001b[0m\u001b[0;34m(\u001b[0m\u001b[0;36m0\u001b[0m\u001b[0;34m)\u001b[0m\u001b[0;34m)\u001b[0m\u001b[0;34m\u001b[0m\u001b[0;34m\u001b[0m\u001b[0m\n\u001b[1;32m     20\u001b[0m             \u001b[0mY_list\u001b[0m\u001b[0;34m.\u001b[0m\u001b[0mappend\u001b[0m\u001b[0;34m(\u001b[0m\u001b[0my_opt\u001b[0m\u001b[0;34m.\u001b[0m\u001b[0msqueeze\u001b[0m\u001b[0;34m(\u001b[0m\u001b[0;36m0\u001b[0m\u001b[0;34m)\u001b[0m\u001b[0;34m)\u001b[0m\u001b[0;34m\u001b[0m\u001b[0;34m\u001b[0m\u001b[0m\n",
      "\u001b[0;32m/tmp/ipykernel_9557/2873768619.py\u001b[0m in \u001b[0;36moptimize_with_constraints\u001b[0;34m(forward_model, y_target, score_target, steps, lr)\u001b[0m\n\u001b[1;32m     22\u001b[0m \u001b[0;34m\u001b[0m\u001b[0m\n\u001b[1;32m     23\u001b[0m         \u001b[0mopt\u001b[0m\u001b[0;34m.\u001b[0m\u001b[0mzero_grad\u001b[0m\u001b[0;34m(\u001b[0m\u001b[0;34m)\u001b[0m\u001b[0;34m\u001b[0m\u001b[0;34m\u001b[0m\u001b[0m\n\u001b[0;32m---> 24\u001b[0;31m         \u001b[0mloss\u001b[0m\u001b[0;34m.\u001b[0m\u001b[0mbackward\u001b[0m\u001b[0;34m(\u001b[0m\u001b[0;34m)\u001b[0m\u001b[0;34m\u001b[0m\u001b[0;34m\u001b[0m\u001b[0m\n\u001b[0m\u001b[1;32m     25\u001b[0m         \u001b[0mopt\u001b[0m\u001b[0;34m.\u001b[0m\u001b[0mstep\u001b[0m\u001b[0;34m(\u001b[0m\u001b[0;34m)\u001b[0m\u001b[0;34m\u001b[0m\u001b[0;34m\u001b[0m\u001b[0m\n\u001b[1;32m     26\u001b[0m \u001b[0;34m\u001b[0m\u001b[0m\n",
      "\u001b[0;32m~/anaconda3/envs/py37_Constraints/lib/python3.7/site-packages/torch/_tensor.py\u001b[0m in \u001b[0;36mbackward\u001b[0;34m(self, gradient, retain_graph, create_graph, inputs)\u001b[0m\n\u001b[1;32m    487\u001b[0m             )\n\u001b[1;32m    488\u001b[0m         torch.autograd.backward(\n\u001b[0;32m--> 489\u001b[0;31m             \u001b[0mself\u001b[0m\u001b[0;34m,\u001b[0m \u001b[0mgradient\u001b[0m\u001b[0;34m,\u001b[0m \u001b[0mretain_graph\u001b[0m\u001b[0;34m,\u001b[0m \u001b[0mcreate_graph\u001b[0m\u001b[0;34m,\u001b[0m \u001b[0minputs\u001b[0m\u001b[0;34m=\u001b[0m\u001b[0minputs\u001b[0m\u001b[0;34m\u001b[0m\u001b[0;34m\u001b[0m\u001b[0m\n\u001b[0m\u001b[1;32m    490\u001b[0m         )\n\u001b[1;32m    491\u001b[0m \u001b[0;34m\u001b[0m\u001b[0m\n",
      "\u001b[0;32m~/anaconda3/envs/py37_Constraints/lib/python3.7/site-packages/torch/autograd/__init__.py\u001b[0m in \u001b[0;36mbackward\u001b[0;34m(tensors, grad_tensors, retain_graph, create_graph, grad_variables, inputs)\u001b[0m\n\u001b[1;32m    197\u001b[0m     Variable._execution_engine.run_backward(  # Calls into the C++ engine to run the backward pass\n\u001b[1;32m    198\u001b[0m         \u001b[0mtensors\u001b[0m\u001b[0;34m,\u001b[0m \u001b[0mgrad_tensors_\u001b[0m\u001b[0;34m,\u001b[0m \u001b[0mretain_graph\u001b[0m\u001b[0;34m,\u001b[0m \u001b[0mcreate_graph\u001b[0m\u001b[0;34m,\u001b[0m \u001b[0minputs\u001b[0m\u001b[0;34m,\u001b[0m\u001b[0;34m\u001b[0m\u001b[0;34m\u001b[0m\u001b[0m\n\u001b[0;32m--> 199\u001b[0;31m         allow_unreachable=True, accumulate_grad=True)  # Calls into the C++ engine to run the backward pass\n\u001b[0m\u001b[1;32m    200\u001b[0m \u001b[0;34m\u001b[0m\u001b[0m\n\u001b[1;32m    201\u001b[0m def grad(\n",
      "\u001b[0;31mRuntimeError\u001b[0m: element 0 of tensors does not require grad and does not have a grad_fn"
     ]
    }
   ],
   "source": [
    "\n",
    "\n",
    "print(\"Building constrained dataset for inverse training...\")\n",
    "scores = np.linspace(0.0, 0.9, 10).tolist()\n",
    "X_gen, Y_gen, S_gen = build_constrained_dataset(\n",
    "    forward_model,\n",
    "    y_pool=y_train,          # reuse the RSA outputs as seeds\n",
    "    scores=scores,\n",
    "    runs_per_score=30,       # 10*30 = 300 samples; increase for better inverse\n",
    "    steps=250\n",
    ")\n"
   ]
  },
  {
   "cell_type": "code",
   "execution_count": null,
   "id": "fda02f59",
   "metadata": {},
   "outputs": [],
   "source": [
    "\n",
    "# Train/test split\n",
    "N = X_gen.size(0)\n",
    "perm = torch.randperm(N)\n",
    "train_idx, test_idx = perm[: int(0.8*N)], perm[int(0.8*N):]\n",
    "X_tr, Y_tr, S_tr = X_gen[train_idx], Y_gen[train_idx], S_gen[train_idx]\n",
    "X_te, Y_te, S_te = X_gen[test_idx],  Y_gen[test_idx],  S_gen[test_idx]\n"
   ]
  },
  {
   "cell_type": "code",
   "execution_count": null,
   "id": "e00788cf",
   "metadata": {},
   "outputs": [],
   "source": [
    "\n",
    "\n",
    "print(\"Training inverse model ([ŷ,score] → x̂)...\")\n",
    "inverse_model = train_inverse(Y_tr, S_tr, X_tr, epochs=250, batch_size=256, lr=1e-3)\n"
   ]
  },
  {
   "cell_type": "code",
   "execution_count": null,
   "id": "9570d0ac",
   "metadata": {},
   "outputs": [],
   "source": [
    "\n",
    "with torch.no_grad():\n",
    "    pred_x, mae = eval_inverse(inverse_model, Y_te, S_te, X_te)\n",
    "\n",
    "print(\"Inverse MAE per field [p,q,e]:\", [round(v,3) for v in mae.cpu().tolist()])\n",
    "\n"
   ]
  },
  {
   "cell_type": "code",
   "execution_count": null,
   "id": "0047e8b3",
   "metadata": {},
   "outputs": [],
   "source": [
    "\n",
    "# ======= Fast inference + optional refinement =======\n",
    "@torch.no_grad()\n",
    "def fast_inverse_predict(inv_model, y_desired, score_desired):\n",
    "    if score_desired.dim() == 0:\n",
    "        score_desired = score_desired.view(1,1)\n",
    "    feats = torch.cat([y_desired.to(device), score_desired.to(device)], dim=1)\n",
    "    return inv_model(feats)  # [1,3]\n"
   ]
  },
  {
   "cell_type": "code",
   "execution_count": null,
   "id": "14f5fac4",
   "metadata": {},
   "outputs": [],
   "source": [
    "\n",
    "\n",
    "def refine_with_optimizer(forward_model, y_target, score_target, x_init, steps=75, lr=0.01):\n",
    "    \"\"\"\n",
    "    Start from x_init (from inverse) and do a short constraint optimization to\n",
    "    tighten constraint satisfaction.\n",
    "    \"\"\"\n",
    "    # map x_init in (0,300) back to latent z using logit, clamp to avoid inf\n",
    "    z = torch.logit((x_init / 300.0).clamp(1e-4, 1-1e-4)).clone().detach().requires_grad_(True)\n",
    "    opt = optim.Adam([z], lr=lr)\n",
    "    for _ in range(steps):\n",
    "        x = torch.sigmoid(z) * 300.0\n",
    "        y_pred = forward_model(x)\n",
    "        d_pred = y_pred[:, 2]\n",
    "        score = hamming_weight(d_pred)\n",
    "        loss = nn.functional.mse_loss(y_pred, y_target) + 10.0*nn.functional.mse_loss(score, score_target)\n",
    "        opt.zero_grad(); loss.backward(); opt.step()\n",
    "    return x.detach(), y_pred.detach(), score.detach()\n"
   ]
  },
  {
   "cell_type": "code",
   "execution_count": null,
   "id": "88405550",
   "metadata": {},
   "outputs": [],
   "source": [
    "\n",
    "# Demo on one test case\n",
    "y_star = Y_te[:1]\n",
    "s_star = torch.tensor([0.6], dtype=torch.float32, device=device)\n",
    "x_guess = fast_inverse_predict(inverse_model, y_star, s_star)\n",
    "x_refined, y_refined, s_refined = refine_with_optimizer(forward_model, y_star, s_star, x_guess, steps=60, lr=0.01)\n",
    "\n",
    "print(\"\\n--- Inference demo ---\")\n",
    "print(\"Desired score:\", s_star.item())\n",
    "print(\"Inverse guess x:\", x_guess.cpu().numpy())\n",
    "print(\"Refined x     :\", x_refined.cpu().numpy())\n",
    "print(\"Refined y     :\", y_refined.cpu().numpy())\n",
    "print(\"Refined score :\", s_refined.item())\n"
   ]
  },
  {
   "cell_type": "code",
   "execution_count": null,
   "id": "8bda537a",
   "metadata": {},
   "outputs": [],
   "source": []
  },
  {
   "cell_type": "code",
   "execution_count": null,
   "id": "8862f198",
   "metadata": {},
   "outputs": [],
   "source": []
  },
  {
   "cell_type": "code",
   "execution_count": null,
   "id": "7d9331a9",
   "metadata": {},
   "outputs": [],
   "source": []
  },
  {
   "cell_type": "code",
   "execution_count": null,
   "id": "65337cb0",
   "metadata": {},
   "outputs": [],
   "source": []
  },
  {
   "cell_type": "code",
   "execution_count": null,
   "id": "6ce4548d",
   "metadata": {},
   "outputs": [],
   "source": []
  },
  {
   "cell_type": "code",
   "execution_count": null,
   "id": "2fd24616",
   "metadata": {},
   "outputs": [],
   "source": []
  },
  {
   "cell_type": "code",
   "execution_count": null,
   "id": "73fdf7cc",
   "metadata": {},
   "outputs": [],
   "source": []
  },
  {
   "cell_type": "code",
   "execution_count": null,
   "id": "5c9b405a",
   "metadata": {},
   "outputs": [],
   "source": []
  },
  {
   "cell_type": "code",
   "execution_count": null,
   "id": "0ec606ac",
   "metadata": {},
   "outputs": [],
   "source": []
  },
  {
   "cell_type": "code",
   "execution_count": null,
   "id": "a2fe7aa9",
   "metadata": {},
   "outputs": [],
   "source": []
  },
  {
   "cell_type": "code",
   "execution_count": null,
   "id": "354e891a",
   "metadata": {},
   "outputs": [],
   "source": []
  },
  {
   "cell_type": "code",
   "execution_count": null,
   "id": "806268c2",
   "metadata": {},
   "outputs": [],
   "source": []
  },
  {
   "cell_type": "code",
   "execution_count": null,
   "id": "daad3eca",
   "metadata": {},
   "outputs": [],
   "source": []
  },
  {
   "cell_type": "code",
   "execution_count": null,
   "id": "62031fbe",
   "metadata": {},
   "outputs": [],
   "source": []
  },
  {
   "cell_type": "code",
   "execution_count": null,
   "id": "5ea57b51",
   "metadata": {},
   "outputs": [],
   "source": []
  },
  {
   "cell_type": "code",
   "execution_count": null,
   "id": "34162021",
   "metadata": {},
   "outputs": [],
   "source": []
  },
  {
   "cell_type": "code",
   "execution_count": null,
   "id": "8aed46e6",
   "metadata": {},
   "outputs": [],
   "source": []
  },
  {
   "cell_type": "code",
   "execution_count": null,
   "id": "84e90546",
   "metadata": {},
   "outputs": [],
   "source": []
  },
  {
   "cell_type": "code",
   "execution_count": null,
   "id": "8b9e4392",
   "metadata": {},
   "outputs": [],
   "source": []
  }
 ],
 "metadata": {
  "kernelspec": {
   "display_name": "Python 3 (ipykernel)",
   "language": "python",
   "name": "python3"
  },
  "language_info": {
   "codemirror_mode": {
    "name": "ipython",
    "version": 3
   },
   "file_extension": ".py",
   "mimetype": "text/x-python",
   "name": "python",
   "nbconvert_exporter": "python",
   "pygments_lexer": "ipython3",
   "version": "3.7.16"
  }
 },
 "nbformat": 4,
 "nbformat_minor": 5
}
