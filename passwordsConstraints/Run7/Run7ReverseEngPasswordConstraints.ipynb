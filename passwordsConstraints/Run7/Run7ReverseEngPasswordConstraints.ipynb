{
 "cells": [
  {
   "cell_type": "markdown",
   "id": "f5ea08f9",
   "metadata": {},
   "source": [
    "\n",
    "## Passwords Auditor with contraints\n"
   ]
  },
  {
   "cell_type": "code",
   "execution_count": 1,
   "id": "bcab9906",
   "metadata": {},
   "outputs": [],
   "source": [
    "\n",
    "## !pip install zxcvbn\n",
    "## !pip install password-strength\n",
    "## !pip install passlib\n"
   ]
  },
  {
   "cell_type": "code",
   "execution_count": 2,
   "id": "cf283c76",
   "metadata": {},
   "outputs": [],
   "source": [
    "\n",
    "\n",
    "import string\n",
    "import torch\n",
    "import torch.nn as nn\n",
    "import torch.nn.functional as F\n",
    "from zxcvbn import zxcvbn\n",
    "from password_strength import PasswordStats\n",
    "import math\n"
   ]
  },
  {
   "cell_type": "code",
   "execution_count": 3,
   "id": "81cb1605",
   "metadata": {},
   "outputs": [
    {
     "data": {
      "text/plain": [
       "['a',\n",
       " 'b',\n",
       " 'c',\n",
       " 'd',\n",
       " 'e',\n",
       " 'f',\n",
       " 'g',\n",
       " 'h',\n",
       " 'i',\n",
       " 'j',\n",
       " 'k',\n",
       " 'l',\n",
       " 'm',\n",
       " 'n',\n",
       " 'o',\n",
       " 'p',\n",
       " 'q',\n",
       " 'r',\n",
       " 's',\n",
       " 't',\n",
       " 'u',\n",
       " 'v',\n",
       " 'w',\n",
       " 'x',\n",
       " 'y',\n",
       " 'z',\n",
       " 'A',\n",
       " 'B',\n",
       " 'C',\n",
       " 'D',\n",
       " 'E',\n",
       " 'F',\n",
       " 'G',\n",
       " 'H',\n",
       " 'I',\n",
       " 'J',\n",
       " 'K',\n",
       " 'L',\n",
       " 'M',\n",
       " 'N',\n",
       " 'O',\n",
       " 'P',\n",
       " 'Q',\n",
       " 'R',\n",
       " 'S',\n",
       " 'T',\n",
       " 'U',\n",
       " 'V',\n",
       " 'W',\n",
       " 'X',\n",
       " 'Y',\n",
       " 'Z',\n",
       " '0',\n",
       " '1',\n",
       " '2',\n",
       " '3',\n",
       " '4',\n",
       " '5',\n",
       " '6',\n",
       " '7',\n",
       " '8',\n",
       " '9',\n",
       " '!',\n",
       " '@',\n",
       " '#',\n",
       " '$',\n",
       " '%',\n",
       " '^',\n",
       " '&',\n",
       " '*']"
      ]
     },
     "execution_count": 3,
     "metadata": {},
     "output_type": "execute_result"
    }
   ],
   "source": [
    "\n",
    "\n",
    "VOCAB = list(string.ascii_letters + string.digits + \"!@#$%^&*\")\n",
    "VOCAB \n"
   ]
  },
  {
   "cell_type": "code",
   "execution_count": 4,
   "id": "d4843ef6",
   "metadata": {},
   "outputs": [
    {
     "data": {
      "text/plain": [
       "70"
      ]
     },
     "execution_count": 4,
     "metadata": {},
     "output_type": "execute_result"
    }
   ],
   "source": [
    "\n",
    "V     = len(VOCAB)\n",
    "V\n"
   ]
  },
  {
   "cell_type": "code",
   "execution_count": 5,
   "id": "aea16a03",
   "metadata": {},
   "outputs": [
    {
     "name": "stdout",
     "output_type": "stream",
     "text": [
      "torch.Size([70])\n"
     ]
    },
    {
     "data": {
      "text/plain": [
       "tensor([0., 0., 0., 0., 0., 0., 0., 0., 0., 0., 0., 0., 0., 0., 0., 0., 0., 0.,\n",
       "        0., 0., 0., 0., 0., 0., 0., 0., 1., 1., 1., 1., 1., 1., 1., 1., 1., 1.,\n",
       "        1., 1., 1., 1., 1., 1., 1., 1., 1., 1., 1., 1., 1., 1., 1., 1., 0., 0.,\n",
       "        0., 0., 0., 0., 0., 0., 0., 0., 0., 0., 0., 0., 0., 0., 0., 0.])"
      ]
     },
     "execution_count": 5,
     "metadata": {},
     "output_type": "execute_result"
    }
   ],
   "source": [
    "\n",
    "MASK_UPPER = torch.tensor([c in string.ascii_uppercase for c in VOCAB]).float()\n",
    "\n",
    "print(  MASK_UPPER.shape  )\n",
    "MASK_UPPER\n"
   ]
  },
  {
   "cell_type": "code",
   "execution_count": 6,
   "id": "ae6d0fbf",
   "metadata": {},
   "outputs": [
    {
     "name": "stdout",
     "output_type": "stream",
     "text": [
      "torch.Size([70])\n"
     ]
    },
    {
     "data": {
      "text/plain": [
       "tensor([1., 1., 1., 1., 1., 1., 1., 1., 1., 1., 1., 1., 1., 1., 1., 1., 1., 1.,\n",
       "        1., 1., 1., 1., 1., 1., 1., 1., 0., 0., 0., 0., 0., 0., 0., 0., 0., 0.,\n",
       "        0., 0., 0., 0., 0., 0., 0., 0., 0., 0., 0., 0., 0., 0., 0., 0., 0., 0.,\n",
       "        0., 0., 0., 0., 0., 0., 0., 0., 0., 0., 0., 0., 0., 0., 0., 0.])"
      ]
     },
     "execution_count": 6,
     "metadata": {},
     "output_type": "execute_result"
    }
   ],
   "source": [
    "\n",
    "MASK_LOWER = torch.tensor([c in string.ascii_lowercase for c in VOCAB]).float()\n",
    "\n",
    "print( MASK_LOWER.shape )\n",
    "MASK_LOWER\n"
   ]
  },
  {
   "cell_type": "code",
   "execution_count": 7,
   "id": "67d32517",
   "metadata": {},
   "outputs": [
    {
     "name": "stdout",
     "output_type": "stream",
     "text": [
      "torch.Size([70])\n"
     ]
    },
    {
     "data": {
      "text/plain": [
       "tensor([0., 0., 0., 0., 0., 0., 0., 0., 0., 0., 0., 0., 0., 0., 0., 0., 0., 0.,\n",
       "        0., 0., 0., 0., 0., 0., 0., 0., 0., 0., 0., 0., 0., 0., 0., 0., 0., 0.,\n",
       "        0., 0., 0., 0., 0., 0., 0., 0., 0., 0., 0., 0., 0., 0., 0., 0., 1., 1.,\n",
       "        1., 1., 1., 1., 1., 1., 1., 1., 0., 0., 0., 0., 0., 0., 0., 0.])"
      ]
     },
     "execution_count": 7,
     "metadata": {},
     "output_type": "execute_result"
    }
   ],
   "source": [
    "\n",
    "MASK_DIGIT = torch.tensor([c in string.digits          for c in VOCAB]).float()\n",
    "\n",
    "print( MASK_DIGIT.shape )\n",
    "MASK_DIGIT\n"
   ]
  },
  {
   "cell_type": "code",
   "execution_count": 8,
   "id": "b09b5016",
   "metadata": {},
   "outputs": [
    {
     "name": "stdout",
     "output_type": "stream",
     "text": [
      "torch.Size([70])\n"
     ]
    },
    {
     "data": {
      "text/plain": [
       "tensor([0., 0., 0., 0., 0., 0., 0., 0., 0., 0., 0., 0., 0., 0., 0., 0., 0., 0.,\n",
       "        0., 0., 0., 0., 0., 0., 0., 0., 0., 0., 0., 0., 0., 0., 0., 0., 0., 0.,\n",
       "        0., 0., 0., 0., 0., 0., 0., 0., 0., 0., 0., 0., 0., 0., 0., 0., 0., 0.,\n",
       "        0., 0., 0., 0., 0., 0., 0., 0., 1., 1., 1., 1., 1., 1., 1., 1.])"
      ]
     },
     "execution_count": 8,
     "metadata": {},
     "output_type": "execute_result"
    }
   ],
   "source": [
    "\n",
    "\n",
    "\n",
    "MASK_SPEC  = torch.tensor([c in \"!@#$%^&*\"     for c in VOCAB]).float()\n",
    "\n",
    "print(MASK_SPEC.shape)\n",
    "\n",
    "MASK_SPEC\n",
    "\n"
   ]
  },
  {
   "cell_type": "code",
   "execution_count": 9,
   "id": "24de6db8",
   "metadata": {},
   "outputs": [
    {
     "data": {
      "text/plain": [
       "'\\n\\n\\nclass TinyDecoder(nn.Module):\\n    \\n    def __init__(self, z_dim=128, T=12, V=V):\\n        super().__init__()\\n        self.T = T\\n        self.V = V\\n        self.linear = nn.Linear(z_dim, T * V)\\n\\n    def forward(self, z):\\n        logits = self.linear(z)                        # [B, T*V]\\n        return logits.view(z.size(0), self.T, self.V)  # [B, T, V]\\n\\n\\n\\n'"
      ]
     },
     "execution_count": 9,
     "metadata": {},
     "output_type": "execute_result"
    }
   ],
   "source": [
    "\n",
    "\n",
    "'''\n",
    "\n",
    "\n",
    "class TinyDecoder(nn.Module):\n",
    "    \n",
    "    def __init__(self, z_dim=128, T=12, V=V):\n",
    "        super().__init__()\n",
    "        self.T = T\n",
    "        self.V = V\n",
    "        self.linear = nn.Linear(z_dim, T * V)\n",
    "\n",
    "    def forward(self, z):\n",
    "        logits = self.linear(z)                        # [B, T*V]\n",
    "        return logits.view(z.size(0), self.T, self.V)  # [B, T, V]\n",
    "\n",
    "\n",
    "\n",
    "'''\n"
   ]
  },
  {
   "cell_type": "code",
   "execution_count": 10,
   "id": "44c6e16f",
   "metadata": {},
   "outputs": [],
   "source": [
    "\n",
    "\n",
    "def estimate_entropy(password):\n",
    "    charset_size = 0\n",
    "    \n",
    "    if any(c.islower() for c in password): charset_size += 26\n",
    "    if any(c.isupper() for c in password): charset_size += 26\n",
    "    if any(c.isdigit() for c in password): charset_size += 10\n",
    "    if any(c in \"!@#$%^&*()-_=+[]{};:'\\\",.<>/?\\\\|\" for c in password): charset_size += 32\n",
    "    return len(password) * math.log2(charset_size or 1)\n",
    "\n",
    "\n"
   ]
  },
  {
   "cell_type": "code",
   "execution_count": 11,
   "id": "44095b6f",
   "metadata": {},
   "outputs": [],
   "source": [
    "\n",
    "def entropy_stats(passwords):\n",
    "    entropies = [ estimate_entropy(pw) for pw in passwords ]\n",
    "    return {\n",
    "        \"avg_entropy_bits\": sum(entropies) / len(entropies),\n",
    "        \"min\": min(entropies),\n",
    "        \"max\": max(entropies)\n",
    "    }\n"
   ]
  },
  {
   "cell_type": "code",
   "execution_count": 12,
   "id": "49f00b2b",
   "metadata": {},
   "outputs": [],
   "source": [
    "\n",
    "def average_entropy(passwords):\n",
    "    \n",
    "    return sum(estimate_entropy(p) for p in passwords) / len(passwords)\n",
    "\n"
   ]
  },
  {
   "cell_type": "code",
   "execution_count": 13,
   "id": "95fde125",
   "metadata": {},
   "outputs": [],
   "source": [
    "\n",
    "def score_with_password_strength(passwords):\n",
    "    stats = [PasswordStats(pw) for pw in passwords]\n",
    "    return {\n",
    "        \"average_strength\": sum(s.strength() for s in stats) / len(stats),\n",
    "        \"weak%\": sum(s.strength() < 0.3 for s in stats) / len(stats) * 100,\n",
    "        \"strong%\": sum(s.strength() > 0.7 for s in stats) / len(stats) * 100\n",
    "    }\n",
    "\n"
   ]
  },
  {
   "cell_type": "code",
   "execution_count": 14,
   "id": "b8080f14",
   "metadata": {},
   "outputs": [],
   "source": [
    "\n",
    "def class_present(p_pos):\n",
    "    \n",
    "    # p_pos: [B, T] probability per position of being in the class\n",
    "    \n",
    "    return 1.0 - torch.prod(1.0 - p_pos + 1e-6, dim=1)      # [B]\n",
    "\n"
   ]
  },
  {
   "cell_type": "code",
   "execution_count": 15,
   "id": "02a6703c",
   "metadata": {},
   "outputs": [],
   "source": [
    "\n",
    "# --- Decode one-hot/probabilities to strings ---\n",
    "\n",
    "def decode(y_probs):\n",
    "    idx = y_probs.argmax(dim=-1).cpu()                       # [B, T]\n",
    "    out = []\n",
    "    for row in idx.tolist():\n",
    "        out.append(\"\".join(VOCAB[i] for i in row))\n",
    "    return out\n"
   ]
  },
  {
   "cell_type": "code",
   "execution_count": 16,
   "id": "93132049",
   "metadata": {},
   "outputs": [],
   "source": [
    "\n",
    "def entropy_bits_per_string(y_probs):\n",
    "    \n",
    "    # y_probs: [B, T, V], probs per token\n",
    "    \n",
    "    p   = y_probs.clamp_min(1e-9)\n",
    "    H_t = -(p * p.log()).sum(dim=-1)                         # nats, [B, T]\n",
    "    H   = H_t.mean(dim=1)                                      # [B]\n",
    "    \n",
    "    return H / torch.log(torch.tensor(2.0))                  # bits\n",
    "\n"
   ]
  },
  {
   "cell_type": "code",
   "execution_count": 17,
   "id": "c82ec5a6",
   "metadata": {},
   "outputs": [],
   "source": [
    "\n",
    "def generate_passwords(WpU,WpL,WpD,WpS,Wentr,batch, steps=300, T=12, H_min_bits=6.0, seed=0, use_gumbel=True):\n",
    "    \n",
    "    torch.manual_seed(seed)\n",
    "    \n",
    "    z_init = torch.full((batch, T, V), -6.0)\n",
    "    \n",
    "    ## breaks with z_init\n",
    "    ## but losses still back prop to \"z\", thanks to requires_grad=true\n",
    "    \n",
    "    z      = z_init.clone().detach().requires_grad_(True)  \n",
    "\n",
    "    opt    = torch.optim.Adam([z], lr=0.05)\n",
    "\n",
    "    for step in range(steps):\n",
    "        \n",
    "        tau = max(0.8 - 0.003 * step, 0.2)\n",
    "        \n",
    "        if use_gumbel and step < 500:\n",
    "            \n",
    "            gumbel_noise = -torch.empty_like(z).exponential_().log()\n",
    "            \n",
    "            logits       = (z + gumbel_noise) / tau\n",
    "            \n",
    "            y_probs      = F.softmax(logits, dim=-1)\n",
    "            \n",
    "        else:\n",
    "            y_probs = F.softmax(z / tau, dim=-1)\n",
    "            \n",
    "        \n",
    "        pU = (y_probs * MASK_UPPER).sum(dim=-1)\n",
    "        pL = (y_probs * MASK_LOWER).sum(dim=-1)\n",
    "        pD = (y_probs * MASK_DIGIT).sum(dim=-1)\n",
    "        pS = (y_probs * MASK_SPEC ).sum(dim=-1)\n",
    "\n",
    "        class_loss = (\n",
    "            WpU*F.relu( 1.0 - class_present(pU) ).mean() +\n",
    "            WpL*F.relu( 1.0 - class_present(pL) ).mean() +\n",
    "            WpD*F.relu( 1.0 - class_present(pD) ).mean() +\n",
    "            WpS*F.relu( 1.0 - class_present(pS) ).mean()\n",
    "        )\n",
    "\n",
    "        H_bits = entropy_bits_per_string(y_probs)\n",
    "        \n",
    "        entropy_loss = F.relu(H_min_bits - H_bits).mean()\n",
    "\n",
    "        loss = class_loss + entropy_loss*Wentr\n",
    "        \n",
    "        ## loss = class_loss + entropy_loss\n",
    "\n",
    "        opt.zero_grad()\n",
    "        loss.backward()\n",
    "        opt.step()\n",
    "\n",
    "    return decode( y_probs.detach() )\n",
    "\n"
   ]
  },
  {
   "cell_type": "code",
   "execution_count": 18,
   "id": "84affbea",
   "metadata": {},
   "outputs": [],
   "source": [
    "\n",
    "\n",
    "def evaluate_passwords(password_list):\n",
    "   \n",
    "    scores = []\n",
    "    crack_times = []\n",
    "\n",
    "    for pw in password_list:\n",
    "        result = zxcvbn(pw)\n",
    "        scores.append(result['score'])\n",
    "        crack_times.append(result['crack_times_seconds']['offline_fast_hashing_1e10_per_second'])\n",
    "\n",
    "    avg_score = sum(scores) / len(scores)\n",
    "    score_distribution = {\n",
    "        score: scores.count(score) for score in range(5)\n",
    "    }\n",
    "\n",
    "    return {\n",
    "        'average_score': avg_score,\n",
    "        'score_distribution': score_distribution,\n",
    "        'avg_crack_time_secs': sum(crack_times) / len(crack_times)\n",
    "    }\n"
   ]
  },
  {
   "cell_type": "code",
   "execution_count": 19,
   "id": "1d5e477d",
   "metadata": {},
   "outputs": [],
   "source": [
    "\n",
    "def eval_func_metrics(constraintsGeneratedPasswords):\n",
    "    i = 0\n",
    "    for pass_generated in constraintsGeneratedPasswords[12:32]:\n",
    "        print(pass_generated)\n",
    "    \n",
    "    result = evaluate_passwords(constraintsGeneratedPasswords)\n",
    "    \n",
    "    print(\"Average score:\", result['average_score'])\n",
    "    print(\"Score distribution:\", result['score_distribution'])\n",
    "    print(\"Average crack time (seconds):\", result['avg_crack_time_secs'])\n",
    "    \n",
    "    pw = constraintsGeneratedPasswords\n",
    "\n",
    "    print(score_with_password_strength(pw))\n",
    "    print(average_entropy(pw))\n",
    "    print(entropy_stats(pw))\n",
    "    \n"
   ]
  },
  {
   "cell_type": "markdown",
   "id": "3afbf1b9",
   "metadata": {},
   "source": [
    "\n",
    "## Experiments\n"
   ]
  },
  {
   "cell_type": "code",
   "execution_count": 20,
   "id": "ec19718d",
   "metadata": {},
   "outputs": [],
   "source": [
    "\n",
    "num_passwords  = 32     ## 2048\n",
    "entropy_weight = 0.0\n"
   ]
  },
  {
   "cell_type": "markdown",
   "id": "dd576e2e",
   "metadata": {},
   "source": [
    "\n",
    "## All constraints\n"
   ]
  },
  {
   "cell_type": "code",
   "execution_count": 21,
   "id": "00f6d91c",
   "metadata": {},
   "outputs": [
    {
     "name": "stdout",
     "output_type": "stream",
     "text": [
      "p%69BFh0%9Y%\n",
      "97$v@Cv3$x@V\n",
      "z3j23#^H7^5O\n",
      "P^#uW7TY&7r7\n",
      "c!H6NWGKj$60\n",
      "y&$*3nvL!3HB\n",
      "m#03c&&#4ZR$\n",
      "D#T13jg$#C&^\n",
      "4uE*$3@@E7$%\n",
      "lb@v5W6J02^$\n",
      "H*$YC5hQ9#@u\n",
      "6AbA5902*$z^\n",
      "H8Q^%k#43dR^\n",
      "@1Cfl0XH1!%8\n",
      "cA70!80Z&^2d\n",
      "&#2b66uh$5@C\n",
      "2%5z6*24bb1O\n",
      "3&2T&i6&02Eq\n",
      "y!$P$xv!8^x@\n",
      "#s^LX6%8^m4V\n",
      "Average score: 4.0\n",
      "Score distribution: {0: 0, 1: 0, 2: 0, 3: 0, 4: 32}\n",
      "Average crack time (seconds): 100.0000000001\n",
      "{'average_strength': 0.509377100519998, 'weak%': 0.0, 'strong%': 0.0}\n",
      "78.65506622013164\n",
      "{'avg_entropy_bits': 78.65506622013164, 'min': 78.65506622013166, 'max': 78.65506622013166}\n"
     ]
    }
   ],
   "source": [
    "\n",
    "constraintsGeneratedPasswords = generate_passwords(\n",
    "                                     WpU=1.0,\n",
    "                                     WpL=1.0,\n",
    "                                     WpD=1.0,\n",
    "                                     WpS=1.0,\n",
    "                                     Wentr=entropy_weight,\n",
    "                                     batch=num_passwords, \n",
    "                                     steps=2000, \n",
    "                                     T=12, \n",
    "                                     H_min_bits=3.0\n",
    ")\n",
    "\n",
    "\n",
    "\n",
    "eval_func_metrics(constraintsGeneratedPasswords)\n"
   ]
  },
  {
   "cell_type": "markdown",
   "id": "34e24f56",
   "metadata": {},
   "source": [
    "\n",
    "## No Special Chars\n"
   ]
  },
  {
   "cell_type": "code",
   "execution_count": 22,
   "id": "438b9467",
   "metadata": {},
   "outputs": [
    {
     "name": "stdout",
     "output_type": "stream",
     "text": [
      "io7214h0VxY8\n",
      "hu213177oUsH\n",
      "qBl8kW5F7g38\n",
      "fjHqs6T2d50V\n",
      "9g6EW86SRnwd\n",
      "7b07185L5SPc\n",
      "W21b02jbMTD4\n",
      "BhT17qr3185p\n",
      "DaNcG3q91m3v\n",
      "7iWc1W4JrZtk\n",
      "N35n850dJm8u\n",
      "xyKCtW01UpB9\n",
      "D30w1FygE8qY\n",
      "Xv6aAo8318F0\n",
      "cvBTF4f7r719\n",
      "U2Pwp811Zk9Z\n",
      "9va1hN1n0bT8\n",
      "3VwdY9jH2Ilj\n",
      "6XZmL9a83hRd\n",
      "6sd8e5f8CQA9\n",
      "Average score: 4.0\n",
      "Score distribution: {0: 0, 1: 0, 2: 0, 3: 0, 4: 32}\n",
      "Average crack time (seconds): 94.7350000000875\n",
      "{'average_strength': 0.5151182840132217, 'weak%': 0.0, 'strong%': 0.0}\n",
      "71.45035572464252\n",
      "{'avg_entropy_bits': 71.45035572464252, 'min': 71.45035572464249, 'max': 71.45035572464249}\n"
     ]
    }
   ],
   "source": [
    "\n",
    "constraintsGeneratedPasswords = generate_passwords(\n",
    "                                     WpU=1.0,\n",
    "                                     WpL=1.0,\n",
    "                                     WpD=1.0,\n",
    "                                     WpS=0.0,\n",
    "                                     Wentr=entropy_weight,\n",
    "                                     batch=num_passwords, \n",
    "                                     steps=2000, \n",
    "                                     T=12, \n",
    "                                     H_min_bits=3.0\n",
    ")\n",
    "\n",
    "\n",
    "\n",
    "eval_func_metrics(constraintsGeneratedPasswords)\n"
   ]
  },
  {
   "cell_type": "markdown",
   "id": "d17c6a35",
   "metadata": {},
   "source": [
    "\n",
    "## No Digits\n"
   ]
  },
  {
   "cell_type": "code",
   "execution_count": 23,
   "id": "cb3c952a",
   "metadata": {},
   "outputs": [
    {
     "name": "stdout",
     "output_type": "stream",
     "text": [
      "p$Kx@^G&wx$!\n",
      "o$$W@qE^*!*V\n",
      "!C@OvRN%*dd!\n",
      "&#!u$!C@%Urk\n",
      "L!G#X%kS#tn&\n",
      "h%yY*&SL^xNn\n",
      "m##$!^&$AT&G\n",
      "j@d$#RpB#NCV\n",
      "&!VcsE&u##@y\n",
      "lsSVZR&*e*!m\n",
      "#Y^CwqYk&s^#\n",
      "E^OVp@quL$@^\n",
      "I*V*^tZjMY!$\n",
      "&vL*l&^eI!OX\n",
      "cGO!#!N#&lO*\n",
      "Ofv#yC*R^*#%\n",
      "R&^v@*jBb&RK\n",
      "L$p!$lp$geK^\n",
      "**O^$&zcALx*\n",
      "vgmL%T%&X!$Z\n",
      "Average score: 4.0\n",
      "Score distribution: {0: 0, 1: 0, 2: 0, 3: 0, 4: 32}\n",
      "Average crack time (seconds): 100.0000000001\n",
      "{'average_strength': 0.5015357420003721, 'weak%': 0.0, 'strong%': 0.0}\n",
      "76.70780907334513\n",
      "{'avg_entropy_bits': 76.70780907334513, 'min': 76.70780907334513, 'max': 76.70780907334513}\n"
     ]
    }
   ],
   "source": [
    "\n",
    "constraintsGeneratedPasswords = generate_passwords(\n",
    "                                     WpU=1.0,\n",
    "                                     WpL=1.0,\n",
    "                                     WpD=0.0,\n",
    "                                     WpS=1.0,\n",
    "                                     Wentr=entropy_weight,\n",
    "                                     batch=num_passwords, \n",
    "                                     steps=2000, \n",
    "                                     T=12, \n",
    "                                     H_min_bits=3.0\n",
    ")\n",
    "\n",
    "\n",
    "\n",
    "eval_func_metrics(constraintsGeneratedPasswords)\n"
   ]
  },
  {
   "cell_type": "markdown",
   "id": "935e14b9",
   "metadata": {},
   "source": [
    "\n",
    "## No lower case letters\n"
   ]
  },
  {
   "cell_type": "code",
   "execution_count": 24,
   "id": "7a41e2bc",
   "metadata": {},
   "outputs": [
    {
     "name": "stdout",
     "output_type": "stream",
     "text": [
      "&2K91*5%%WY4\n",
      "1$2#77E7#L@K\n",
      "%&427#6^571O\n",
      "&%B3S0F8!91V\n",
      "@!B67V6#Z6C%\n",
      "W%$PU%S@*^21\n",
      "4323!5*KO*@@\n",
      "2&S1X3%1%8R^\n",
      "@J&5S5!&Y@$0\n",
      "$G&G!N4F^7K&\n",
      "N37C05DP!19@\n",
      "5E^AB903@5!8\n",
      "J4C*^9%4S3#$\n",
      "!58!^&8H5&78\n",
      "BK1YI#&#&!3!\n",
      "A42@83@M^*@C\n",
      "5@R1E#64#&1K\n",
      "1^2!VM6$62#%\n",
      "6%75$T535EU*\n",
      "*85L3*@1&N4V\n",
      "Average score: 4.0\n",
      "Score distribution: {0: 0, 1: 0, 2: 0, 3: 0, 4: 32}\n",
      "Average crack time (seconds): 91.796000031340625\n",
      "{'average_strength': 0.4981816256947674, 'weak%': 0.0, 'strong%': 0.0}\n",
      "73.04955409500411\n",
      "{'avg_entropy_bits': 73.04955409500411, 'min': 73.04955409500407, 'max': 73.04955409500407}\n"
     ]
    }
   ],
   "source": [
    "\n",
    "constraintsGeneratedPasswords = generate_passwords(\n",
    "                                     WpU=1.0,\n",
    "                                     WpL=0.0,\n",
    "                                     WpD=1.0,\n",
    "                                     WpS=1.0,\n",
    "                                     Wentr=entropy_weight,\n",
    "                                     batch=num_passwords, \n",
    "                                     steps=2000, \n",
    "                                     T=12, \n",
    "                                     H_min_bits=3.0\n",
    ")\n",
    "\n",
    "\n",
    "\n",
    "eval_func_metrics(constraintsGeneratedPasswords)\n",
    "\n"
   ]
  },
  {
   "cell_type": "markdown",
   "id": "0f0e44b4",
   "metadata": {},
   "source": [
    "\n",
    "## No upper case letters\n"
   ]
  },
  {
   "cell_type": "code",
   "execution_count": 25,
   "id": "cb35ba8f",
   "metadata": {},
   "outputs": [
    {
     "name": "stdout",
     "output_type": "stream",
     "text": [
      "9%50&!52$tj#\n",
      "1$#^#j5k&9%7\n",
      "!150p#$^#7r0\n",
      "m&#8f7%!$78q\n",
      "k!t8#%x!g54%\n",
      "y&$5%zt*%4p*\n",
      "j9^3e94b*ll4\n",
      "w!pk66r@^8&8\n",
      "6u^c33q60*@6\n",
      "mb@^45@&59#$\n",
      "@3@3&1mk&!@$\n",
      "4^#ux902yoo^\n",
      "m43m@m#80ne$\n",
      "!%4z&@&h9@68\n",
      "fiv*5&34#!3w\n",
      "&9248u*6$xut\n",
      "823z3z00!$4#\n",
      "3!7p*^$&82@j\n",
      "l*j5#*3$85l7\n",
      "^s@189@803&3\n",
      "Average score: 4.0\n",
      "Score distribution: {0: 0, 1: 0, 2: 0, 3: 0, 4: 32}\n",
      "Average crack time (seconds): 89.5533125938375\n",
      "{'average_strength': 0.49566434051168784, 'weak%': 0.0, 'strong%': 0.0}\n",
      "73.04955409500411\n",
      "{'avg_entropy_bits': 73.04955409500411, 'min': 73.04955409500407, 'max': 73.04955409500407}\n"
     ]
    }
   ],
   "source": [
    "\n",
    "constraintsGeneratedPasswords = generate_passwords(\n",
    "                                     WpU=0.0,\n",
    "                                     WpL=1.0,\n",
    "                                     WpD=1.0,\n",
    "                                     WpS=1.0,\n",
    "                                     Wentr=entropy_weight,\n",
    "                                     batch=num_passwords, \n",
    "                                     steps=2000, \n",
    "                                     T=12, \n",
    "                                     H_min_bits=3.0\n",
    ")\n",
    "\n",
    "\n",
    "\n",
    "eval_func_metrics(constraintsGeneratedPasswords)\n",
    "\n"
   ]
  },
  {
   "cell_type": "markdown",
   "id": "9d354de1",
   "metadata": {},
   "source": [
    "\n",
    "## No special characters and No digits\n"
   ]
  },
  {
   "cell_type": "code",
   "execution_count": 26,
   "id": "562fe452",
   "metadata": {},
   "outputs": [
    {
     "name": "stdout",
     "output_type": "stream",
     "text": [
      "aTiTyuLfVtAs\n",
      "hkgEJqYUoLYT\n",
      "qQgEzRQXtabq\n",
      "PCWxxXzWxNrC\n",
      "ByyPNnNytgSD\n",
      "lhmPdIdLsZNs\n",
      "sAgdCmSqSZHN\n",
      "BhcUFvkZmnob\n",
      "qSTEAoQkjEvj\n",
      "msAsRATuRatH\n",
      "HLqkBOYzNLHq\n",
      "PkGPzUpFMzim\n",
      "PkxhjFIoEYxY\n",
      "HdnmVoLYrEBg\n",
      "npNTFgyvXRCU\n",
      "bTWXbpCEkZDi\n",
      "zjdzcQWLrbVK\n",
      "FPrAxABKTjzC\n",
      "xMIRLetNhJJd\n",
      "ghphmtEbVNbP\n",
      "Average score: 4.0\n",
      "Score distribution: {0: 0, 1: 0, 2: 0, 3: 0, 4: 32}\n",
      "Average crack time (seconds): 95.0518750000875\n",
      "{'average_strength': 0.5140620948926758, 'weak%': 0.0, 'strong%': 0.0}\n",
      "68.40527661769309\n",
      "{'avg_entropy_bits': 68.40527661769309, 'min': 68.4052766176931, 'max': 68.4052766176931}\n"
     ]
    }
   ],
   "source": [
    "\n",
    "constraintsGeneratedPasswords = generate_passwords(\n",
    "                                     WpU=1.0,\n",
    "                                     WpL=1.0,\n",
    "                                     WpD=0.0,\n",
    "                                     WpS=0.0,\n",
    "                                     Wentr=entropy_weight,\n",
    "                                     batch=num_passwords, \n",
    "                                     steps=2000, \n",
    "                                     T=12, \n",
    "                                     H_min_bits=3.0\n",
    ")\n",
    "\n",
    "\n",
    "\n",
    "eval_func_metrics(constraintsGeneratedPasswords)\n"
   ]
  },
  {
   "cell_type": "markdown",
   "id": "f03766eb",
   "metadata": {},
   "source": [
    "\n",
    "## No special characters, and No digits, and No lower case letters\n"
   ]
  },
  {
   "cell_type": "code",
   "execution_count": 27,
   "id": "306d436e",
   "metadata": {},
   "outputs": [
    {
     "name": "stdout",
     "output_type": "stream",
     "text": [
      "NPKIGFZGTCWJ\n",
      "RSZLHDDQOXWH\n",
      "CZJLETTHOZDT\n",
      "USLRRXUBJBEP\n",
      "BXXQZWYKZAOQ\n",
      "DRTXZNVFJSRJ\n",
      "FVCYMGFZGFDP\n",
      "DOTQOLHFNMMP\n",
      "BLHTHXBCCOXO\n",
      "OJHUCXCCIMSB\n",
      "IQMSUEBMBZZJ\n",
      "PDCIPEDPXCIF\n",
      "DYDGPAKQLUCB\n",
      "JLXGBIBABCPY\n",
      "DQCUORNUEPBZ\n",
      "NTFTFBAUOQSF\n",
      "QVCTIQTCRCBU\n",
      "UBJDQZQISMEN\n",
      "KCDRHCHQCXYB\n",
      "VTGYDPBOTEZC\n",
      "Average score: 3.96875\n",
      "Score distribution: {0: 0, 1: 0, 2: 0, 3: 1, 4: 31}\n",
      "Average crack time (seconds): 84.53193753131875\n",
      "{'average_strength': 0.48399943143790947, 'weak%': 0.0, 'strong%': 0.0}\n",
      "56.405276617693076\n",
      "{'avg_entropy_bits': 56.405276617693076, 'min': 56.405276617693104, 'max': 56.405276617693104}\n"
     ]
    }
   ],
   "source": [
    "\n",
    "\n",
    "constraintsGeneratedPasswords = generate_passwords(\n",
    "                                     WpU=1.0,\n",
    "                                     WpL=0.0,\n",
    "                                     WpD=0.0,\n",
    "                                     WpS=0.0,\n",
    "                                     Wentr=entropy_weight,\n",
    "                                     batch=num_passwords, \n",
    "                                     steps=2000, \n",
    "                                     T=12, \n",
    "                                     H_min_bits=3.0\n",
    ")\n",
    "\n",
    "\n",
    "\n",
    "eval_func_metrics(constraintsGeneratedPasswords)\n"
   ]
  },
  {
   "cell_type": "code",
   "execution_count": null,
   "id": "d52d2ece",
   "metadata": {},
   "outputs": [],
   "source": []
  },
  {
   "cell_type": "code",
   "execution_count": null,
   "id": "17f261ba",
   "metadata": {},
   "outputs": [],
   "source": []
  },
  {
   "cell_type": "code",
   "execution_count": null,
   "id": "ec2fd680",
   "metadata": {},
   "outputs": [],
   "source": []
  },
  {
   "cell_type": "code",
   "execution_count": null,
   "id": "4d3dc467",
   "metadata": {},
   "outputs": [],
   "source": []
  },
  {
   "cell_type": "code",
   "execution_count": null,
   "id": "20d936e6",
   "metadata": {},
   "outputs": [],
   "source": []
  },
  {
   "cell_type": "code",
   "execution_count": null,
   "id": "6638c19f",
   "metadata": {},
   "outputs": [],
   "source": []
  },
  {
   "cell_type": "code",
   "execution_count": null,
   "id": "037efb63",
   "metadata": {},
   "outputs": [],
   "source": []
  },
  {
   "cell_type": "code",
   "execution_count": null,
   "id": "53e447db",
   "metadata": {},
   "outputs": [],
   "source": []
  },
  {
   "cell_type": "code",
   "execution_count": null,
   "id": "c2f18c64",
   "metadata": {},
   "outputs": [],
   "source": []
  },
  {
   "cell_type": "code",
   "execution_count": null,
   "id": "8ecd8d73",
   "metadata": {},
   "outputs": [],
   "source": []
  },
  {
   "cell_type": "code",
   "execution_count": null,
   "id": "ea937c72",
   "metadata": {},
   "outputs": [],
   "source": []
  },
  {
   "cell_type": "code",
   "execution_count": null,
   "id": "f610f889",
   "metadata": {},
   "outputs": [],
   "source": []
  },
  {
   "cell_type": "code",
   "execution_count": null,
   "id": "62011a18",
   "metadata": {},
   "outputs": [],
   "source": []
  },
  {
   "cell_type": "code",
   "execution_count": null,
   "id": "01622478",
   "metadata": {},
   "outputs": [],
   "source": []
  },
  {
   "cell_type": "code",
   "execution_count": null,
   "id": "d6bcd1a2",
   "metadata": {},
   "outputs": [],
   "source": []
  }
 ],
 "metadata": {
  "kernelspec": {
   "display_name": "Python 3 (ipykernel)",
   "language": "python",
   "name": "python3"
  },
  "language_info": {
   "codemirror_mode": {
    "name": "ipython",
    "version": 3
   },
   "file_extension": ".py",
   "mimetype": "text/x-python",
   "name": "python",
   "nbconvert_exporter": "python",
   "pygments_lexer": "ipython3",
   "version": "3.7.16"
  }
 },
 "nbformat": 4,
 "nbformat_minor": 5
}
