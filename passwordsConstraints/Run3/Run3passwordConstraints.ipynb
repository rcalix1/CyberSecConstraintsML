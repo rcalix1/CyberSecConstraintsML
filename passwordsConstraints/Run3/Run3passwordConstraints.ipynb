{
 "cells": [
  {
   "cell_type": "markdown",
   "id": "f5ea08f9",
   "metadata": {},
   "source": [
    "\n",
    "## Passwords Auditor with contraints\n"
   ]
  },
  {
   "cell_type": "code",
   "execution_count": 1,
   "id": "bcab9906",
   "metadata": {},
   "outputs": [],
   "source": [
    "\n",
    "## !pip install zxcvbn\n",
    "## !pip install password-strength\n",
    "## !pip install passlib\n"
   ]
  },
  {
   "cell_type": "code",
   "execution_count": 2,
   "id": "cf283c76",
   "metadata": {},
   "outputs": [],
   "source": [
    "\n",
    "\n",
    "import string\n",
    "import torch\n",
    "import torch.nn as nn\n",
    "import torch.nn.functional as F\n",
    "from zxcvbn import zxcvbn\n",
    "from password_strength import PasswordStats\n",
    "import math\n"
   ]
  },
  {
   "cell_type": "code",
   "execution_count": 3,
   "id": "81cb1605",
   "metadata": {},
   "outputs": [
    {
     "data": {
      "text/plain": [
       "70"
      ]
     },
     "execution_count": 3,
     "metadata": {},
     "output_type": "execute_result"
    }
   ],
   "source": [
    "\n",
    "\n",
    "VOCAB = list(string.ascii_letters + string.digits + \"!@#$%^&*\")\n",
    "V     = len(VOCAB)\n",
    "V\n"
   ]
  },
  {
   "cell_type": "code",
   "execution_count": 4,
   "id": "5495c3a4",
   "metadata": {},
   "outputs": [
    {
     "name": "stdout",
     "output_type": "stream",
     "text": [
      "torch.Size([70])\n"
     ]
    },
    {
     "data": {
      "text/plain": [
       "tensor([0., 0., 0., 0., 0., 0., 0., 0., 0., 0., 0., 0., 0., 0., 0., 0., 0., 0.,\n",
       "        0., 0., 0., 0., 0., 0., 0., 0., 0., 0., 0., 0., 0., 0., 0., 0., 0., 0.,\n",
       "        0., 0., 0., 0., 0., 0., 0., 0., 0., 0., 0., 0., 0., 0., 0., 0., 0., 0.,\n",
       "        0., 0., 0., 0., 0., 0., 0., 0., 1., 1., 1., 1., 1., 1., 1., 1.])"
      ]
     },
     "execution_count": 4,
     "metadata": {},
     "output_type": "execute_result"
    }
   ],
   "source": [
    "\n",
    "MASK_UPPER = torch.tensor([c in string.ascii_uppercase for c in VOCAB]).float()\n",
    "MASK_LOWER = torch.tensor([c in string.ascii_lowercase for c in VOCAB]).float()\n",
    "MASK_DIGIT = torch.tensor([c in string.digits          for c in VOCAB]).float()\n",
    "MASK_SPEC  = torch.tensor([c in \"!@#$%^&*\"             for c in VOCAB]).float()\n",
    "\n",
    "print(MASK_SPEC.shape)\n",
    "\n",
    "MASK_SPEC\n"
   ]
  },
  {
   "cell_type": "code",
   "execution_count": 5,
   "id": "b09b5016",
   "metadata": {},
   "outputs": [],
   "source": [
    "\n",
    "\n",
    "\n",
    "def score_with_password_strength(passwords):\n",
    "    stats = [PasswordStats(pw) for pw in passwords]\n",
    "    return {\n",
    "        \"average_strength\": sum(s.strength() for s in stats) / len(stats),\n",
    "        \"weak%\": sum(s.strength() < 0.3 for s in stats) / len(stats) * 100,\n",
    "        \"strong%\": sum(s.strength() > 0.7 for s in stats) / len(stats) * 100\n",
    "    }\n",
    "\n"
   ]
  },
  {
   "cell_type": "code",
   "execution_count": 6,
   "id": "1f05e0b8",
   "metadata": {},
   "outputs": [],
   "source": [
    "\n",
    "\n",
    "\n",
    "def estimate_entropy(passwd):\n",
    "    charset_size = 0\n",
    "    if any(c.islower() for c in passwd): charset_size += 26\n",
    "    if any(c.isupper() for c in passwd): charset_size += 26\n",
    "    if any(c.isdigit() for c in passwd): charset_size += 10\n",
    "    if any(c in \"!@#$%^&*()-_=+[{]};:'\\\",<.>/?\\\\|\" for c in passwd): charset_size += 32\n",
    "    if charset_size == 0: charset_size = 1\n",
    "    return len(passwd) * math.log2(charset_size)\n",
    "\n",
    "def average_entropy(passwords):\n",
    "    return sum(estimate_entropy(p) for p in passwords) / len(passwords)\n",
    "\n"
   ]
  },
  {
   "cell_type": "code",
   "execution_count": 7,
   "id": "42faf9e4",
   "metadata": {},
   "outputs": [],
   "source": [
    "\n",
    "\n",
    "\n",
    "def estimate_entropy(password):\n",
    "    charset_size = 0\n",
    "    if any(c.islower() for c in password): charset_size += 26\n",
    "    if any(c.isupper() for c in password): charset_size += 26\n",
    "    if any(c.isdigit() for c in password): charset_size += 10\n",
    "    if any(c in \"!@#$%^&*()-_=+[]{};:'\\\",.<>/?\\\\|\" for c in password): charset_size += 32\n",
    "    return len(password) * math.log2(charset_size or 1)\n",
    "\n",
    "\n",
    "\n"
   ]
  },
  {
   "cell_type": "code",
   "execution_count": 8,
   "id": "eda15c07",
   "metadata": {},
   "outputs": [],
   "source": [
    "\n",
    "def entropy_stats(passwords):\n",
    "    entropies = [estimate_entropy(pw) for pw in passwords]\n",
    "    return {\n",
    "        \"avg_entropy_bits\": sum(entropies) / len(entropies),\n",
    "        \"min\": min(entropies),\n",
    "        \"max\": max(entropies)\n",
    "    }\n"
   ]
  },
  {
   "cell_type": "code",
   "execution_count": 9,
   "id": "24de6db8",
   "metadata": {},
   "outputs": [],
   "source": [
    "\n",
    "class TinyDecoder(nn.Module):\n",
    "    \n",
    "    def __init__(self, z_dim=128, T=12, V=V):\n",
    "        super().__init__()\n",
    "        self.T = T\n",
    "        self.V = V\n",
    "        self.linear = nn.Linear(z_dim, T * V)\n",
    "\n",
    "    def forward(self, z):\n",
    "        logits = self.linear(z)                        # [B, T*V]\n",
    "        return logits.view(z.size(0), self.T, self.V)  # [B, T, V]\n",
    "\n"
   ]
  },
  {
   "cell_type": "code",
   "execution_count": 10,
   "id": "e89ab74a",
   "metadata": {},
   "outputs": [],
   "source": [
    "\n",
    "def st_gumbel_softmax(logits, tau):\n",
    "    \n",
    "    eps = 1e-9\n",
    "    \n",
    "    g = -torch.log(-torch.log(torch.rand_like(logits) + eps) + eps)\n",
    "    \n",
    "    y_soft = F.softmax((logits + g) / tau, dim=-1)          # [B, T, V]\n",
    "    \n",
    "    y_hard = F.one_hot(\n",
    "                 y_soft.argmax(-1), \n",
    "                 y_soft.size(-1)\n",
    "    ).float()\n",
    "    \n",
    "    return y_hard + (y_soft - y_soft.detach())              # hard forward, soft grad\n"
   ]
  },
  {
   "cell_type": "code",
   "execution_count": 11,
   "id": "f36081a6",
   "metadata": {},
   "outputs": [],
   "source": [
    "\n",
    "\n",
    "def class_present(p_pos):\n",
    "    \n",
    "    # p_pos: [B, T] probability per position of being in the class\n",
    "    \n",
    "    return 1.0 - torch.prod(1.0 - p_pos + 1e-6, dim=1)      # [B]\n",
    "\n"
   ]
  },
  {
   "cell_type": "code",
   "execution_count": 12,
   "id": "e2e6a668",
   "metadata": {},
   "outputs": [],
   "source": [
    "\n",
    "def entropy_bits_per_string(y_probs):\n",
    "    # y_probs: [B, T, V], probs per token\n",
    "    p = y_probs.clamp_min(1e-9)\n",
    "    H_t = -(p * p.log()).sum(dim=-1)                         # nats, [B, T]\n",
    "    H = H_t.mean(dim=1)                                      # [B]\n",
    "    return H / torch.log(torch.tensor(2.0))                  # bits\n"
   ]
  },
  {
   "cell_type": "code",
   "execution_count": 13,
   "id": "4a648053",
   "metadata": {},
   "outputs": [],
   "source": [
    "\n",
    "# --- Decode one-hot/probabilities to strings ---\n",
    "\n",
    "def decode(y_probs):\n",
    "    idx = y_probs.argmax(dim=-1).cpu()                       # [B, T]\n",
    "    out = []\n",
    "    for row in idx.tolist():\n",
    "        out.append(\"\".join(VOCAB[i] for i in row))\n",
    "    return out\n"
   ]
  },
  {
   "cell_type": "code",
   "execution_count": 14,
   "id": "c82ec5a6",
   "metadata": {},
   "outputs": [],
   "source": [
    "\n",
    "def generate_passwords(WpU, WpL, WpD, WpS, batch=16, steps=300, T=12, H_min_bits=6.0, seed=0, use_gumbel=True):\n",
    "    torch.manual_seed(seed)\n",
    "\n",
    "    model = TinyDecoder(T=T)\n",
    "\n",
    "    for p in model.parameters():\n",
    "        p.requires_grad = False  # decoder is fixed\n",
    "\n",
    "    weak = [\n",
    "        \"password\", \"qwerty\", \"letmein\", \"admin\",\n",
    "        \"welcome\", \"123456\", \"iloveyou\", \"guest\",\n",
    "        \"hello123\", \"abc123\", \"monkey\", \"test\",\n",
    "        \"summer\", \"dragon\", \"football\", \"name\"\n",
    "    ][:batch]\n",
    "\n",
    "    weak = [pw[:T].ljust(T, \"a\") for pw in weak]\n",
    "\n",
    "    z_init = torch.full((batch, T, V), -6.0)\n",
    "    for b, pw in enumerate(weak):\n",
    "        for t, c in enumerate(pw):\n",
    "            if c in VOCAB:\n",
    "                z_init[b, t, VOCAB.index(c)] = 6.0\n",
    "\n",
    "    z = z_init.clone().detach().requires_grad_(True)\n",
    "\n",
    "    opt = torch.optim.Adam([z], lr=0.05)\n",
    "\n",
    "    for step in range(steps):\n",
    "        tau = max(0.8 - 0.003 * step, 0.2)\n",
    "\n",
    "        if use_gumbel and step < 500:\n",
    "            gumbel_noise = -torch.empty_like(z).exponential_().log()\n",
    "            logits = (z + gumbel_noise) / tau\n",
    "            y_probs = F.softmax(logits, dim=-1)\n",
    "        else:\n",
    "            y_probs = F.softmax(z / tau, dim=-1)\n",
    "\n",
    "        pU = (y_probs * MASK_UPPER).sum(dim=-1)\n",
    "        pL = (y_probs * MASK_LOWER).sum(dim=-1)\n",
    "        pD = (y_probs * MASK_DIGIT).sum(dim=-1)\n",
    "        pS = (y_probs * MASK_SPEC).sum(dim=-1)\n",
    "\n",
    "        class_loss = (\n",
    "            WpU*F.relu(1.0 - class_present(pU)).mean() +\n",
    "            WpL*F.relu(1.0 - class_present(pL)).mean() +\n",
    "            WpD*F.relu(1.0 - class_present(pD)).mean() +\n",
    "            WpS*F.relu(1.0 - class_present(pS)).mean()\n",
    "        )\n",
    "\n",
    "        H_bits = entropy_bits_per_string(y_probs)\n",
    "        entropy_loss = F.relu(H_min_bits - H_bits).mean()\n",
    "\n",
    "        loss = class_loss + entropy_loss*0.0\n",
    "\n",
    "        opt.zero_grad()\n",
    "        loss.backward()\n",
    "        opt.step()\n",
    "\n",
    "    return decode(y_probs.detach())\n",
    "\n"
   ]
  },
  {
   "cell_type": "code",
   "execution_count": 15,
   "id": "84affbea",
   "metadata": {},
   "outputs": [],
   "source": [
    "\n",
    "\n",
    "def evaluate_passwords(password_list):\n",
    "    \"\"\"\n",
    "    Takes a list of passwords and returns:\n",
    "    - average score (0 to 4)\n",
    "    - score distribution\n",
    "    - crack time estimates\n",
    "    \"\"\"\n",
    "    scores = []\n",
    "    crack_times = []\n",
    "\n",
    "    for pw in password_list:\n",
    "        result = zxcvbn(pw)\n",
    "        scores.append(result['score'])\n",
    "        crack_times.append(result['crack_times_seconds']['offline_fast_hashing_1e10_per_second'])\n",
    "\n",
    "    avg_score = sum(scores) / len(scores)\n",
    "    score_distribution = {\n",
    "        score: scores.count(score) for score in range(5)\n",
    "    }\n",
    "\n",
    "    return {\n",
    "        'average_score': avg_score,\n",
    "        'score_distribution': score_distribution,\n",
    "        'avg_crack_time_secs': sum(crack_times) / len(crack_times)\n",
    "    }\n"
   ]
  },
  {
   "cell_type": "code",
   "execution_count": 16,
   "id": "1d5e477d",
   "metadata": {},
   "outputs": [],
   "source": [
    "\n",
    "def eval_func_metrics(constraintsGeneratedPasswords):\n",
    "    i = 0\n",
    "    for pass_generated in constraintsGeneratedPasswords[12:32]:\n",
    "        print(pass_generated)\n",
    "    \n",
    "    result = evaluate_passwords(constraintsGeneratedPasswords)\n",
    "    \n",
    "    print(\"Average score:\", result['average_score'])\n",
    "    print(\"Score distribution:\", result['score_distribution'])\n",
    "    print(\"Average crack time (seconds):\", result['avg_crack_time_secs'])\n",
    "    \n",
    "    pw = constraintsGeneratedPasswords\n",
    "\n",
    "    print(score_with_password_strength(pw))\n",
    "    print(average_entropy(pw))\n",
    "    print(entropy_stats(pw))\n",
    "    \n"
   ]
  },
  {
   "cell_type": "markdown",
   "id": "3afbf1b9",
   "metadata": {},
   "source": [
    "\n",
    "## Experiments\n"
   ]
  },
  {
   "cell_type": "code",
   "execution_count": 17,
   "id": "ec19718d",
   "metadata": {},
   "outputs": [],
   "source": [
    "\n",
    "num_passwords = 2048\n"
   ]
  },
  {
   "cell_type": "markdown",
   "id": "dd576e2e",
   "metadata": {},
   "source": [
    "\n",
    "## All constraints\n"
   ]
  },
  {
   "cell_type": "code",
   "execution_count": 18,
   "id": "00f6d91c",
   "metadata": {},
   "outputs": [
    {
     "name": "stdout",
     "output_type": "stream",
     "text": [
      "sN7meraaaa@a\n",
      "dGTg2n^aaaa&\n",
      "foo$ba5^B1aa\n",
      "nUmea1^a5aTD\n",
      "6#l830*Pq^8J\n",
      "*E0&3!J&$6nd\n",
      "4&G0#s7az#uU\n",
      "H9l#f#O7n399\n",
      "z@FA6!#^gh01\n",
      "qFp&1^4@$AQ9\n",
      "!tYsAH4u$971\n",
      "Y@09Rv%$^u8n\n",
      "2J&wZC29*C^F\n",
      "12!J*%&gbl9L\n",
      "%q8$0p@t*G$W\n",
      "#FcKX^99AsK9\n",
      "S06vW70LO!&a\n",
      "M5^^%rel%qp9\n",
      "^Q03hG^&fKK7\n",
      "0&k!1$WD!p5B\n",
      "Average score: 3.998046875\n",
      "Score distribution: {0: 0, 1: 0, 2: 0, 3: 4, 4: 2044}\n",
      "Average crack time (seconds): 97.148903138766943359375\n",
      "{'average_strength': 0.5144425006959712, 'weak%': 0.0, 'strong%': 0.0}\n",
      "78.65506622013055\n",
      "{'avg_entropy_bits': 78.65506622013055, 'min': 78.65506622013166, 'max': 78.65506622013166}\n"
     ]
    }
   ],
   "source": [
    "\n",
    "constraintsGeneratedPasswords = generate_passwords(\n",
    "                                     WpU=1.0,\n",
    "                                     WpL=1.0,\n",
    "                                     WpD=1.0,\n",
    "                                     WpS=1.0,\n",
    "                                     batch=num_passwords, \n",
    "                                     steps=2000, \n",
    "                                     T=12, \n",
    "                                     H_min_bits=3.0\n",
    ")\n",
    "\n",
    "\n",
    "\n",
    "eval_func_metrics(constraintsGeneratedPasswords)\n"
   ]
  },
  {
   "cell_type": "markdown",
   "id": "34e24f56",
   "metadata": {},
   "source": [
    "\n",
    "## No Special Chars\n"
   ]
  },
  {
   "cell_type": "code",
   "execution_count": 19,
   "id": "438b9467",
   "metadata": {},
   "outputs": [
    {
     "name": "stdout",
     "output_type": "stream",
     "text": [
      "sW6meraaaaFa\n",
      "d8ag2nFaaaaN\n",
      "fooVba1Wa1aa\n",
      "nUmeaa7aaaaF\n",
      "iJw034Xw225S\n",
      "6E3865L5l3d8\n",
      "I0N4vcMQ7Uu8\n",
      "F1hKSwu02523\n",
      "FJvt93k1PKS2\n",
      "4W4X7tu78HxK\n",
      "6243DK66cnIz\n",
      "3aU5RiH22d8Y\n",
      "xLhTv1k9Iw3N\n",
      "Op9K7RIzKb94\n",
      "xq583qGjFa8d\n",
      "XT3s10M9bp00\n",
      "q8aTWzpy1260\n",
      "JMeO5XbC9q52\n",
      "PQmvC169fL0m\n",
      "6Oqs1TOlLI5h\n",
      "Average score: 3.99609375\n",
      "Score distribution: {0: 0, 1: 0, 2: 2, 3: 4, 4: 2042}\n",
      "Average crack time (seconds): 92.44699810311508789510141924\n",
      "{'average_strength': 0.5100117175939882, 'weak%': 0.0, 'strong%': 0.0}\n",
      "71.45035572463856\n",
      "{'avg_entropy_bits': 71.45035572463856, 'min': 71.45035572464249, 'max': 71.45035572464249}\n"
     ]
    }
   ],
   "source": [
    "\n",
    "constraintsGeneratedPasswords = generate_passwords(\n",
    "                                     WpU=1.0,\n",
    "                                     WpL=1.0,\n",
    "                                     WpD=1.0,\n",
    "                                     WpS=0.0,\n",
    "                                     batch=num_passwords, \n",
    "                                     steps=2000, \n",
    "                                     T=12, \n",
    "                                     H_min_bits=3.0\n",
    ")\n",
    "\n",
    "\n",
    "\n",
    "eval_func_metrics(constraintsGeneratedPasswords)\n"
   ]
  },
  {
   "cell_type": "markdown",
   "id": "d17c6a35",
   "metadata": {},
   "source": [
    "\n",
    "## No Digits\n"
   ]
  },
  {
   "cell_type": "code",
   "execution_count": 20,
   "id": "cb3c952a",
   "metadata": {},
   "outputs": [
    {
     "name": "stdout",
     "output_type": "stream",
     "text": [
      "sRmmeraaaa&a\n",
      "d%$gDnFaaaaa\n",
      "foo$baPKaaaa\n",
      "n&meaN@aaaaY\n",
      "k%mw!w*Zv!a$\n",
      "G%#p!Kr!$iA$\n",
      "X&jXPz&%F%u@\n",
      "$SJ*#%@lnw&^\n",
      "@Qq^$s#*$KbB\n",
      "qYeHy^k@&AkR\n",
      "P@!MJglV$k*a\n",
      "Q%#O!f#j!YIM\n",
      "q$HySY!f^H$#\n",
      "NRfJ%*Iymc@P\n",
      "%q*v@%$l&O&W\n",
      "bR*#@m^^#s@&\n",
      "r@&oVfQ$P*G#\n",
      "MG%^%!$@%upQ\n",
      "e@*@gl@&@rRV\n",
      "^^m!O!@^wU&B\n",
      "Average score: 3.99560546875\n",
      "Score distribution: {0: 0, 1: 0, 2: 1, 3: 7, 4: 2040}\n",
      "Average crack time (seconds): 96.536714554293603515625\n",
      "{'average_strength': 0.5018354511386897, 'weak%': 0.0, 'strong%': 0.0}\n",
      "76.710661500807\n",
      "{'avg_entropy_bits': 76.710661500807, 'min': 76.70780907334513, 'max': 78.65506622013166}\n"
     ]
    }
   ],
   "source": [
    "\n",
    "constraintsGeneratedPasswords = generate_passwords(\n",
    "                                     WpU=1.0,\n",
    "                                     WpL=1.0,\n",
    "                                     WpD=0.0,\n",
    "                                     WpS=1.0,\n",
    "                                     batch=num_passwords, \n",
    "                                     steps=2000, \n",
    "                                     T=12, \n",
    "                                     H_min_bits=3.0\n",
    ")\n",
    "\n",
    "\n",
    "\n",
    "eval_func_metrics(constraintsGeneratedPasswords)\n"
   ]
  },
  {
   "cell_type": "markdown",
   "id": "935e14b9",
   "metadata": {},
   "source": [
    "\n",
    "## No lower case letters\n"
   ]
  },
  {
   "cell_type": "code",
   "execution_count": 21,
   "id": "7a41e2bc",
   "metadata": {},
   "outputs": [
    {
     "name": "stdout",
     "output_type": "stream",
     "text": [
      "sN7meraaaa@a\n",
      "dGTg2n^aaaa&\n",
      "foo$ba5^B1aa\n",
      "nUmea1^a5aTD\n",
      "461$3T*@@^BR\n",
      "#$0@3#L!01$A\n",
      "6&GKP&!H!76%\n",
      "&5X*&$O1!J^X\n",
      "V^!@*FI^7&@1\n",
      "9W1E7%*##4D1\n",
      "S!$650Z*T@%V\n",
      "##N9!!82#O7Y\n",
      "6**6JM9$Q*^%\n",
      "15&!@%G%84JT\n",
      "$27$1F%E!O&D\n",
      "!#UEP&!8^8!0\n",
      "$5!!VBW6D0V#\n",
      "@8^*%O7Q1^8O\n",
      "L446O6^&8X0Q\n",
      "7T!!D!&^^940\n",
      "Average score: 3.998046875\n",
      "Score distribution: {0: 0, 1: 0, 2: 0, 3: 4, 4: 2044}\n",
      "Average crack time (seconds): 95.698352951753662109375\n",
      "{'average_strength': 0.49887797670101397, 'weak%': 0.0, 'strong%': 0.0}\n",
      "73.0933471584819\n",
      "{'avg_entropy_bits': 73.0933471584819, 'min': 73.04955409500407, 'max': 78.65506622013166}\n"
     ]
    }
   ],
   "source": [
    "\n",
    "constraintsGeneratedPasswords = generate_passwords(\n",
    "                                     WpU=1.0,\n",
    "                                     WpL=0.0,\n",
    "                                     WpD=1.0,\n",
    "                                     WpS=1.0,\n",
    "                                     batch=num_passwords, \n",
    "                                     steps=2000, \n",
    "                                     T=12, \n",
    "                                     H_min_bits=3.0\n",
    ")\n",
    "\n",
    "\n",
    "\n",
    "eval_func_metrics(constraintsGeneratedPasswords)\n",
    "\n"
   ]
  },
  {
   "cell_type": "markdown",
   "id": "0f0e44b4",
   "metadata": {},
   "source": [
    "\n",
    "## No upper case letters\n"
   ]
  },
  {
   "cell_type": "code",
   "execution_count": 22,
   "id": "cb35ba8f",
   "metadata": {},
   "outputs": [
    {
     "name": "stdout",
     "output_type": "stream",
     "text": [
      "sum@eraaaa1a\n",
      "9rag3n#aaaaa\n",
      "fo@t@a1laaaa\n",
      "namea7$a9a1a\n",
      "3zn27#!$q!2%\n",
      "*f0&6!*!36js\n",
      "5&60h@3f8mr%\n",
      "$5p*o#^5^e84\n",
      "i@a&r4!^1h09\n",
      "^r!97#47$!*@\n",
      "!@!s%9&7$9hn\n",
      "q@ub%$r2^^8*\n",
      "1w*k&0l$#333\n",
      "2%7p@%c&2!&1\n",
      "%t%51!#tk0@*\n",
      "%n3#1f$2$s!3\n",
      "$1!vl7!*4b3f\n",
      "@rh^%5^@%6g2\n",
      "^006hi^@fr23\n",
      "68m11^&!^@92\n",
      "Average score: 3.99365234375\n",
      "Score distribution: {0: 0, 1: 1, 2: 1, 3: 8, 4: 2038}\n",
      "Average crack time (seconds): 93.85370313604392903349773857\n",
      "{'average_strength': 0.4987833083522382, 'weak%': 0.0, 'strong%': 0.0}\n",
      "73.04417789672422\n",
      "{'avg_entropy_bits': 73.04417789672422, 'min': 62.039100017307746, 'max': 73.04955409500407}\n"
     ]
    }
   ],
   "source": [
    "\n",
    "constraintsGeneratedPasswords = generate_passwords(\n",
    "                                     WpU=0.0,\n",
    "                                     WpL=1.0,\n",
    "                                     WpD=1.0,\n",
    "                                     WpS=1.0,\n",
    "                                     batch=num_passwords, \n",
    "                                     steps=2000, \n",
    "                                     T=12, \n",
    "                                     H_min_bits=3.0\n",
    ")\n",
    "\n",
    "\n",
    "\n",
    "eval_func_metrics(constraintsGeneratedPasswords)\n",
    "\n"
   ]
  },
  {
   "cell_type": "markdown",
   "id": "9d354de1",
   "metadata": {},
   "source": [
    "\n",
    "## No special characters and No digits\n"
   ]
  },
  {
   "cell_type": "code",
   "execution_count": 23,
   "id": "562fe452",
   "metadata": {},
   "outputs": [
    {
     "name": "stdout",
     "output_type": "stream",
     "text": [
      "sBmmeraaaaaa\n",
      "dOagonaaaaaa\n",
      "fooEballaaaa\n",
      "nUmeaaaaaaaa\n",
      "xYRgCMXsqqby\n",
      "fOnxvdLSJsJA\n",
      "QDnCRslDeWoU\n",
      "vDmkbwuLHDkJ\n",
      "FQntcrImWKkj\n",
      "WHurWafWBkrT\n",
      "WTBkKhaUAskV\n",
      "QOylRcyXcBfY\n",
      "alNzqCgRxSCV\n",
      "OwqlFDbzdqEA\n",
      "tEasOyyEAjNH\n",
      "NbyFfTGLKejK\n",
      "OoBBhecPDrdm\n",
      "DGGBLkbJPddk\n",
      "RxblFYlGfXBa\n",
      "QbqbWnWPdpdl\n",
      "Average score: 3.990234375\n",
      "Score distribution: {0: 0, 1: 0, 2: 4, 3: 12, 4: 2032}\n",
      "Average crack time (seconds): 94.907177591399365234375\n",
      "{'average_strength': 0.5161081391720453, 'weak%': 0.0, 'strong%': 0.0}\n",
      "68.40973718278993\n",
      "{'avg_entropy_bits': 68.40973718278993, 'min': 68.4052766176931, 'max': 71.45035572464249}\n"
     ]
    }
   ],
   "source": [
    "\n",
    "constraintsGeneratedPasswords = generate_passwords(\n",
    "                                     WpU=1.0,\n",
    "                                     WpL=1.0,\n",
    "                                     WpD=0.0,\n",
    "                                     WpS=0.0,\n",
    "                                     batch=num_passwords, \n",
    "                                     steps=2000, \n",
    "                                     T=12, \n",
    "                                     H_min_bits=3.0\n",
    ")\n",
    "\n",
    "\n",
    "\n",
    "eval_func_metrics(constraintsGeneratedPasswords)\n"
   ]
  },
  {
   "cell_type": "markdown",
   "id": "f03766eb",
   "metadata": {},
   "source": [
    "\n",
    "## No special characters, and No digits, and No lower case letters\n"
   ]
  },
  {
   "cell_type": "code",
   "execution_count": 24,
   "id": "306d436e",
   "metadata": {},
   "outputs": [
    {
     "name": "stdout",
     "output_type": "stream",
     "text": [
      "sBmmeraaaaaa\n",
      "dOagonaaaaaa\n",
      "fooEballaaaa\n",
      "nUmeaaaaaaaa\n",
      "CDQDGROVSHAZ\n",
      "GSAMTPFFRRJC\n",
      "KSGKRSJWQEKV\n",
      "ILSMDVKXIUAT\n",
      "INVAQSWPYTBN\n",
      "OJFBIESPKGCP\n",
      "BZDIPKNUXPAV\n",
      "TBBCCZNMZHFO\n",
      "SRXMSDQYAZMK\n",
      "WEESCEVNFYUA\n",
      "OQGMIIWQCBKW\n",
      "XNOFNPKRTLYO\n",
      "OGCQTCOATPAG\n",
      "JGJRDGOZOGPX\n",
      "ABGGFWWAVKTM\n",
      "QUJILMOWVYWA\n",
      "Average score: 3.9912109375\n",
      "Score distribution: {0: 0, 1: 0, 2: 4, 3: 10, 4: 2034}\n",
      "Average crack time (seconds): 88.77400157576362305131589209\n",
      "{'average_strength': 0.4876855668168611, 'weak%': 0.0, 'strong%': 0.0}\n",
      "56.50348718278915\n",
      "{'avg_entropy_bits': 56.50348718278915, 'min': 56.405276617693104, 'max': 71.45035572464249}\n"
     ]
    }
   ],
   "source": [
    "\n",
    "\n",
    "constraintsGeneratedPasswords = generate_passwords(\n",
    "                                     WpU=1.0,\n",
    "                                     WpL=0.0,\n",
    "                                     WpD=0.0,\n",
    "                                     WpS=0.0,\n",
    "                                     batch=num_passwords, \n",
    "                                     steps=2000, \n",
    "                                     T=12, \n",
    "                                     H_min_bits=3.0\n",
    ")\n",
    "\n",
    "\n",
    "\n",
    "eval_func_metrics(constraintsGeneratedPasswords)\n"
   ]
  },
  {
   "cell_type": "code",
   "execution_count": null,
   "id": "d52d2ece",
   "metadata": {},
   "outputs": [],
   "source": []
  },
  {
   "cell_type": "code",
   "execution_count": null,
   "id": "17f261ba",
   "metadata": {},
   "outputs": [],
   "source": []
  },
  {
   "cell_type": "code",
   "execution_count": null,
   "id": "ec2fd680",
   "metadata": {},
   "outputs": [],
   "source": []
  },
  {
   "cell_type": "code",
   "execution_count": null,
   "id": "4d3dc467",
   "metadata": {},
   "outputs": [],
   "source": []
  },
  {
   "cell_type": "code",
   "execution_count": null,
   "id": "20d936e6",
   "metadata": {},
   "outputs": [],
   "source": []
  },
  {
   "cell_type": "code",
   "execution_count": null,
   "id": "6638c19f",
   "metadata": {},
   "outputs": [],
   "source": []
  },
  {
   "cell_type": "code",
   "execution_count": null,
   "id": "037efb63",
   "metadata": {},
   "outputs": [],
   "source": []
  },
  {
   "cell_type": "code",
   "execution_count": null,
   "id": "53e447db",
   "metadata": {},
   "outputs": [],
   "source": []
  },
  {
   "cell_type": "code",
   "execution_count": null,
   "id": "c2f18c64",
   "metadata": {},
   "outputs": [],
   "source": []
  },
  {
   "cell_type": "code",
   "execution_count": null,
   "id": "8ecd8d73",
   "metadata": {},
   "outputs": [],
   "source": []
  },
  {
   "cell_type": "code",
   "execution_count": null,
   "id": "ea937c72",
   "metadata": {},
   "outputs": [],
   "source": []
  },
  {
   "cell_type": "code",
   "execution_count": null,
   "id": "f610f889",
   "metadata": {},
   "outputs": [],
   "source": []
  },
  {
   "cell_type": "code",
   "execution_count": null,
   "id": "62011a18",
   "metadata": {},
   "outputs": [],
   "source": []
  },
  {
   "cell_type": "code",
   "execution_count": null,
   "id": "01622478",
   "metadata": {},
   "outputs": [],
   "source": []
  },
  {
   "cell_type": "code",
   "execution_count": null,
   "id": "d6bcd1a2",
   "metadata": {},
   "outputs": [],
   "source": []
  }
 ],
 "metadata": {
  "kernelspec": {
   "display_name": "Python 3 (ipykernel)",
   "language": "python",
   "name": "python3"
  },
  "language_info": {
   "codemirror_mode": {
    "name": "ipython",
    "version": 3
   },
   "file_extension": ".py",
   "mimetype": "text/x-python",
   "name": "python",
   "nbconvert_exporter": "python",
   "pygments_lexer": "ipython3",
   "version": "3.7.16"
  }
 },
 "nbformat": 4,
 "nbformat_minor": 5
}
