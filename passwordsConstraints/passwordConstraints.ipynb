{
 "cells": [
  {
   "cell_type": "markdown",
   "id": "f5ea08f9",
   "metadata": {},
   "source": [
    "\n",
    "## Passwords Auditor with contraints\n"
   ]
  },
  {
   "cell_type": "code",
   "execution_count": 14,
   "id": "bcab9906",
   "metadata": {},
   "outputs": [],
   "source": [
    "\n",
    "## !pip install zxcvbn\n"
   ]
  },
  {
   "cell_type": "code",
   "execution_count": 15,
   "id": "cf283c76",
   "metadata": {},
   "outputs": [],
   "source": [
    "\n",
    "\n",
    "import string\n",
    "import torch\n",
    "import torch.nn as nn\n",
    "import torch.nn.functional as F\n"
   ]
  },
  {
   "cell_type": "code",
   "execution_count": 16,
   "id": "81cb1605",
   "metadata": {},
   "outputs": [
    {
     "data": {
      "text/plain": [
       "70"
      ]
     },
     "execution_count": 16,
     "metadata": {},
     "output_type": "execute_result"
    }
   ],
   "source": [
    "\n",
    "\n",
    "VOCAB = list(string.ascii_letters + string.digits + \"!@#$%^&*\")\n",
    "V     = len(VOCAB)\n",
    "V\n"
   ]
  },
  {
   "cell_type": "code",
   "execution_count": 17,
   "id": "5495c3a4",
   "metadata": {},
   "outputs": [
    {
     "name": "stdout",
     "output_type": "stream",
     "text": [
      "torch.Size([70])\n"
     ]
    },
    {
     "data": {
      "text/plain": [
       "tensor([0., 0., 0., 0., 0., 0., 0., 0., 0., 0., 0., 0., 0., 0., 0., 0., 0., 0.,\n",
       "        0., 0., 0., 0., 0., 0., 0., 0., 0., 0., 0., 0., 0., 0., 0., 0., 0., 0.,\n",
       "        0., 0., 0., 0., 0., 0., 0., 0., 0., 0., 0., 0., 0., 0., 0., 0., 0., 0.,\n",
       "        0., 0., 0., 0., 0., 0., 0., 0., 1., 1., 1., 1., 1., 1., 1., 1.])"
      ]
     },
     "execution_count": 17,
     "metadata": {},
     "output_type": "execute_result"
    }
   ],
   "source": [
    "\n",
    "MASK_UPPER = torch.tensor([c in string.ascii_uppercase for c in VOCAB]).float()\n",
    "MASK_LOWER = torch.tensor([c in string.ascii_lowercase for c in VOCAB]).float()\n",
    "MASK_DIGIT = torch.tensor([c in string.digits          for c in VOCAB]).float()\n",
    "MASK_SPEC  = torch.tensor([c in \"!@#$%^&*\"             for c in VOCAB]).float()\n",
    "\n",
    "print(MASK_SPEC.shape)\n",
    "\n",
    "MASK_SPEC\n"
   ]
  },
  {
   "cell_type": "code",
   "execution_count": 18,
   "id": "6d9d3ba9",
   "metadata": {},
   "outputs": [],
   "source": [
    "\n",
    "\n",
    "class TinyDecoder(nn.Module):\n",
    "    \n",
    "    def __init__(self, z_dim=128, T=12, V=V):\n",
    "        super().__init__()\n",
    "        self.T = T\n",
    "        self.V = V\n",
    "        \n",
    "        self.net = nn.Sequential(\n",
    "            nn.Linear(z_dim, 256),\n",
    "            nn.ReLU(),\n",
    "            nn.Linear(256, T * V)\n",
    "        )\n",
    "\n",
    "    def forward(self, z):\n",
    "        logits = self.net(z)                  # [B, T*V]\n",
    "        \n",
    "        return logits.view(z.size(0), self.T, self.V)  # [B, T, V]\n",
    "\n"
   ]
  },
  {
   "cell_type": "code",
   "execution_count": 19,
   "id": "63a428e6",
   "metadata": {},
   "outputs": [],
   "source": [
    "\n",
    "\n",
    "def st_gumbel_softmax(logits, tau):\n",
    "    \n",
    "    eps = 1e-9\n",
    "    \n",
    "    g = -torch.log(-torch.log(torch.rand_like(logits) + eps) + eps)\n",
    "    \n",
    "    y_soft = F.softmax((logits + g) / tau, dim=-1)          # [B, T, V]\n",
    "    \n",
    "    y_hard = F.one_hot(\n",
    "                 y_soft.argmax(-1), \n",
    "                 y_soft.size(-1)\n",
    "    ).float()\n",
    "    \n",
    "    return y_hard + (y_soft - y_soft.detach())              # hard forward, soft grad\n"
   ]
  },
  {
   "cell_type": "code",
   "execution_count": 20,
   "id": "f36081a6",
   "metadata": {},
   "outputs": [],
   "source": [
    "\n",
    "\n",
    "def class_present(p_pos):\n",
    "    \n",
    "    # p_pos: [B, T] probability per position of being in the class\n",
    "    \n",
    "    return 1.0 - torch.prod(1.0 - p_pos + 1e-6, dim=1)      # [B]\n",
    "\n"
   ]
  },
  {
   "cell_type": "code",
   "execution_count": 21,
   "id": "e2e6a668",
   "metadata": {},
   "outputs": [],
   "source": [
    "\n",
    "\n",
    "def entropy_bits_per_string(y_probs):\n",
    "    # y_probs: [B, T, V], probs per token\n",
    "    p = y_probs.clamp_min(1e-9)\n",
    "    H_t = -(p * p.log()).sum(dim=-1)                         # nats, [B, T]\n",
    "    H = H_t.mean(dim=1)                                      # [B]\n",
    "    return H / torch.log(torch.tensor(2.0))                  # bits\n"
   ]
  },
  {
   "cell_type": "code",
   "execution_count": 22,
   "id": "4a648053",
   "metadata": {},
   "outputs": [],
   "source": [
    "\n",
    "# --- Decode one-hot/probabilities to strings ---\n",
    "\n",
    "def decode(y_probs):\n",
    "    idx = y_probs.argmax(dim=-1).cpu()                       # [B, T]\n",
    "    out = []\n",
    "    for row in idx.tolist():\n",
    "        out.append(\"\".join(VOCAB[i] for i in row))\n",
    "    return out\n"
   ]
  },
  {
   "cell_type": "code",
   "execution_count": 23,
   "id": "2c0fc7cc",
   "metadata": {},
   "outputs": [],
   "source": [
    "\n",
    "\n",
    "def generate_passwords(batch=16, steps=200, T=12, H_min_bits=3.0, seed=0):\n",
    "    torch.manual_seed(seed)\n",
    "\n",
    "    model = TinyDecoder(T=T)\n",
    "    for p in model.parameters():\n",
    "        p.requires_grad = False                              # freeze decoder (we only optimize z)\n",
    "\n",
    "    z = torch.randn(batch, 128, requires_grad=True)\n",
    "    \n",
    "    opt = torch.optim.Adam([z], lr=0.05)\n",
    "    y_probs = None\n",
    "\n",
    "    for t in range(steps):\n",
    "        tau = max(0.8 - 0.003 * t, 0.2)\n",
    "\n",
    "        logits = model(z)                                    # [B, T, V]\n",
    "        \n",
    "        y_probs = st_gumbel_softmax(logits, tau)             # [B, T, V]\n",
    "\n",
    "        pU = (y_probs * MASK_UPPER).sum(dim=-1)              # [B, T]\n",
    "        pL = (y_probs * MASK_LOWER).sum(dim=-1)\n",
    "        pD = (y_probs * MASK_DIGIT).sum(dim=-1)\n",
    "        pS = (y_probs * MASK_SPEC ).sum(dim=-1)\n",
    "\n",
    "        need_upper = F.relu(1.0 - class_present(pU)).mean()\n",
    "        need_lower = F.relu(1.0 - class_present(pL)).mean()\n",
    "        need_digit = F.relu(1.0 - class_present(pD)).mean()\n",
    "        need_spec  = F.relu(1.0 - class_present(pS)).mean()\n",
    "        \n",
    "        class_loss = need_upper + need_lower + need_digit + need_spec\n",
    "\n",
    "        H_bits       = entropy_bits_per_string(  y_probs  )            # [B]\n",
    "        entropy_loss = F.relu(H_min_bits - H_bits).mean()\n",
    "\n",
    "        loss = class_loss + entropy_loss\n",
    "\n",
    "        opt.zero_grad()\n",
    "        loss.backward()\n",
    "        opt.step()\n",
    "\n",
    "    return decode(  y_probs.detach()  )\n",
    "\n",
    "\n",
    "\n"
   ]
  },
  {
   "cell_type": "code",
   "execution_count": 24,
   "id": "00f6d91c",
   "metadata": {},
   "outputs": [
    {
     "name": "stdout",
     "output_type": "stream",
     "text": [
      "Sample: ['z4SvfVncfS14', 'o$^&^k&73Gs1', 'd6fTX6vI^!sy', '@A#UbUW7S$pz', 'Sf5I@n2$dejM', 'Vz$N1D1$xTPP', '2TR*pw&@KfJJ', '!PLcQ8xUdM%^']\n"
     ]
    }
   ],
   "source": [
    "\n",
    "sample = generate_passwords(batch=8, steps=200, T=12, H_min_bits=3.0)\n",
    "\n",
    "print(\"Sample:\", sample)\n",
    "\n",
    "constraintsGeneratedPasswords = sample\n"
   ]
  },
  {
   "cell_type": "markdown",
   "id": "0babf250",
   "metadata": {},
   "source": [
    "\n",
    "## zxcvbn test tool\n"
   ]
  },
  {
   "cell_type": "code",
   "execution_count": 25,
   "id": "e81fead0",
   "metadata": {},
   "outputs": [],
   "source": [
    "\n",
    "from zxcvbn import zxcvbn\n",
    "\n"
   ]
  },
  {
   "cell_type": "code",
   "execution_count": 26,
   "id": "fab91c93",
   "metadata": {},
   "outputs": [
    {
     "name": "stdout",
     "output_type": "stream",
     "text": [
      "2\n",
      "{'online_throttling_100_per_hour': '62 years', 'online_no_throttling_10_per_second': '2 months', 'offline_slow_hashing_1e4_per_second': '2 hours', 'offline_fast_hashing_1e10_per_second': 'less than a second'}\n"
     ]
    }
   ],
   "source": [
    "\n",
    "result = zxcvbn(\"MyP@ssw0rd123\")\n",
    "\n",
    "print(result['score'])  # Score from 0 to 4\n",
    "print(result['crack_times_display'])  # Human-readable estimates\n",
    "\n",
    "\n"
   ]
  },
  {
   "cell_type": "code",
   "execution_count": 27,
   "id": "b76bc5f6",
   "metadata": {},
   "outputs": [],
   "source": [
    "\n",
    "def evaluate_passwords(password_list):\n",
    "    \"\"\"\n",
    "    Takes a list of passwords and returns:\n",
    "    - average score (0 to 4)\n",
    "    - score distribution\n",
    "    - crack time estimates\n",
    "    \"\"\"\n",
    "    scores = []\n",
    "    crack_times = []\n",
    "\n",
    "    for pw in password_list:\n",
    "        result = zxcvbn(pw)\n",
    "        scores.append(result['score'])\n",
    "        crack_times.append(result['crack_times_seconds']['offline_fast_hashing_1e10_per_second'])\n",
    "\n",
    "    avg_score = sum(scores) / len(scores)\n",
    "    score_distribution = {\n",
    "        score: scores.count(score) for score in range(5)\n",
    "    }\n",
    "\n",
    "    return {\n",
    "        'average_score': avg_score,\n",
    "        'score_distribution': score_distribution,\n",
    "        'avg_crack_time_secs': sum(crack_times) / len(crack_times)\n",
    "    }\n"
   ]
  },
  {
   "cell_type": "markdown",
   "id": "9b6dd3ce",
   "metadata": {},
   "source": [
    "\n",
    "## Easy\n"
   ]
  },
  {
   "cell_type": "code",
   "execution_count": 28,
   "id": "06a1c038",
   "metadata": {},
   "outputs": [],
   "source": [
    "\n",
    "# 🔧 Example usage\n",
    "passwords = [\n",
    "    \"123456\",\n",
    "    \"letmein\",\n",
    "    \"password\",\n",
    "    \"aaaaaaa\",\n",
    "    \"987654\",\n",
    "]\n",
    "\n"
   ]
  },
  {
   "cell_type": "code",
   "execution_count": 29,
   "id": "c71a5617",
   "metadata": {},
   "outputs": [],
   "source": [
    "\n",
    "result = evaluate_passwords(passwords)\n"
   ]
  },
  {
   "cell_type": "code",
   "execution_count": 30,
   "id": "b62b4fef",
   "metadata": {},
   "outputs": [
    {
     "name": "stdout",
     "output_type": "stream",
     "text": [
      "Average score: 0.0\n",
      "Score distribution: {0: 5, 1: 0, 2: 0, 3: 0, 4: 0}\n",
      "Average crack time (seconds): 3.12E-9\n"
     ]
    }
   ],
   "source": [
    "\n",
    "print(\"Average score:\", result['average_score'])\n",
    "print(\"Score distribution:\", result['score_distribution'])\n",
    "print(\"Average crack time (seconds):\", result['avg_crack_time_secs'])\n",
    "\n"
   ]
  },
  {
   "cell_type": "code",
   "execution_count": null,
   "id": "f313bb3f",
   "metadata": {},
   "outputs": [],
   "source": []
  },
  {
   "cell_type": "markdown",
   "id": "dbdec9ce",
   "metadata": {},
   "source": [
    "\n",
    "## Medium\n"
   ]
  },
  {
   "cell_type": "code",
   "execution_count": 34,
   "id": "c8c3722a",
   "metadata": {},
   "outputs": [],
   "source": [
    "\n",
    "# 🔧 Example usage\n",
    "passwords = [\n",
    "    \"123456\",\n",
    "    \"letmein\",\n",
    "    \"MyP@ssword123\",\n",
    "    \"Tr0ub4dor&3\",\n",
    "    \"5tr0ngP@ssw0rd!\",\n",
    "]\n"
   ]
  },
  {
   "cell_type": "code",
   "execution_count": 35,
   "id": "4b107324",
   "metadata": {},
   "outputs": [],
   "source": [
    "\n",
    "result = evaluate_passwords(passwords)\n"
   ]
  },
  {
   "cell_type": "code",
   "execution_count": 36,
   "id": "0f23ecdc",
   "metadata": {},
   "outputs": [
    {
     "name": "stdout",
     "output_type": "stream",
     "text": [
      "Average score: 1.8\n",
      "Score distribution: {0: 2, 1: 0, 2: 1, 3: 1, 4: 1}\n",
      "Average crack time (seconds): 2.0028453004\n"
     ]
    }
   ],
   "source": [
    "\n",
    "\n",
    "print(\"Average score:\", result['average_score'])\n",
    "print(\"Score distribution:\", result['score_distribution'])\n",
    "print(\"Average crack time (seconds):\", result['avg_crack_time_secs'])\n",
    "\n",
    "\n"
   ]
  },
  {
   "cell_type": "markdown",
   "id": "e2dd3bca",
   "metadata": {},
   "source": [
    "\n",
    "## Constraints generated and likely harder\n"
   ]
  },
  {
   "cell_type": "code",
   "execution_count": 37,
   "id": "071b1f11",
   "metadata": {},
   "outputs": [
    {
     "name": "stdout",
     "output_type": "stream",
     "text": [
      "z4SvfVncfS14\n",
      "o$^&^k&73Gs1\n",
      "d6fTX6vI^!sy\n",
      "@A#UbUW7S$pz\n",
      "Sf5I@n2$dejM\n",
      "Vz$N1D1$xTPP\n",
      "2TR*pw&@KfJJ\n",
      "!PLcQ8xUdM%^\n"
     ]
    }
   ],
   "source": [
    "\n",
    "for pass_generated in constraintsGeneratedPasswords:\n",
    "    print(pass_generated)\n"
   ]
  },
  {
   "cell_type": "code",
   "execution_count": 38,
   "id": "6436201f",
   "metadata": {},
   "outputs": [],
   "source": [
    "\n",
    "result = evaluate_passwords(constraintsGeneratedPasswords)\n"
   ]
  },
  {
   "cell_type": "code",
   "execution_count": 39,
   "id": "692e3bb1",
   "metadata": {},
   "outputs": [
    {
     "name": "stdout",
     "output_type": "stream",
     "text": [
      "Average score: 4.0\n",
      "Score distribution: {0: 0, 1: 0, 2: 0, 3: 0, 4: 8}\n",
      "Average crack time (seconds): 100.0000000001\n"
     ]
    }
   ],
   "source": [
    "\n",
    "\n",
    "print(\"Average score:\", result['average_score'])\n",
    "print(\"Score distribution:\", result['score_distribution'])\n",
    "print(\"Average crack time (seconds):\", result['avg_crack_time_secs'])\n",
    "\n"
   ]
  },
  {
   "cell_type": "code",
   "execution_count": null,
   "id": "e26cde9c",
   "metadata": {},
   "outputs": [],
   "source": [
    "remeber ll this ]"
   ]
  },
  {
   "cell_type": "code",
   "execution_count": null,
   "id": "2d644265",
   "metadata": {},
   "outputs": [],
   "source": []
  },
  {
   "cell_type": "code",
   "execution_count": null,
   "id": "3d2c1f53",
   "metadata": {},
   "outputs": [],
   "source": []
  },
  {
   "cell_type": "code",
   "execution_count": null,
   "id": "ebf0c6fe",
   "metadata": {},
   "outputs": [],
   "source": []
  },
  {
   "cell_type": "code",
   "execution_count": null,
   "id": "cd01ac0e",
   "metadata": {},
   "outputs": [],
   "source": []
  },
  {
   "cell_type": "code",
   "execution_count": null,
   "id": "c9f7bc9e",
   "metadata": {},
   "outputs": [],
   "source": []
  },
  {
   "cell_type": "code",
   "execution_count": null,
   "id": "031687ee",
   "metadata": {},
   "outputs": [],
   "source": []
  },
  {
   "cell_type": "code",
   "execution_count": null,
   "id": "dc88318f",
   "metadata": {},
   "outputs": [],
   "source": []
  },
  {
   "cell_type": "code",
   "execution_count": null,
   "id": "60727fca",
   "metadata": {},
   "outputs": [],
   "source": []
  },
  {
   "cell_type": "code",
   "execution_count": null,
   "id": "6094e4d8",
   "metadata": {},
   "outputs": [],
   "source": []
  },
  {
   "cell_type": "code",
   "execution_count": null,
   "id": "ea937c72",
   "metadata": {},
   "outputs": [],
   "source": []
  },
  {
   "cell_type": "code",
   "execution_count": null,
   "id": "f610f889",
   "metadata": {},
   "outputs": [],
   "source": []
  },
  {
   "cell_type": "code",
   "execution_count": null,
   "id": "62011a18",
   "metadata": {},
   "outputs": [],
   "source": []
  },
  {
   "cell_type": "code",
   "execution_count": null,
   "id": "01622478",
   "metadata": {},
   "outputs": [],
   "source": []
  },
  {
   "cell_type": "code",
   "execution_count": null,
   "id": "d6bcd1a2",
   "metadata": {},
   "outputs": [],
   "source": []
  }
 ],
 "metadata": {
  "kernelspec": {
   "display_name": "Python 3 (ipykernel)",
   "language": "python",
   "name": "python3"
  },
  "language_info": {
   "codemirror_mode": {
    "name": "ipython",
    "version": 3
   },
   "file_extension": ".py",
   "mimetype": "text/x-python",
   "name": "python",
   "nbconvert_exporter": "python",
   "pygments_lexer": "ipython3",
   "version": "3.7.16"
  }
 },
 "nbformat": 4,
 "nbformat_minor": 5
}
